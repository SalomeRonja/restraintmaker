{
 "cells": [
  {
   "cell_type": "code",
   "execution_count": null,
   "metadata": {
    "collapsed": true
   },
   "outputs": [],
   "source": [
    "import os, sys\n",
    "from pygromos.gromos.gromosPP import GromosPP"
   ]
  },
  {
   "cell_type": "code",
   "execution_count": null,
   "outputs": [],
   "source": [
    "gromPP = GromosPP()\n",
    "root_dir = \"/home/bschroed/win/projects/restraintmaker/devtools/otherScripts/b_ATB_solvationFreeEnergies/sets/multistate\"\n",
    "\n",
    "gromos_out_dir = \"/home/bschroed/win/projects/restraintmaker/devtools/otherScripts/b_ATB_solvationFreeEnergies/sets/gromos_files\"\n",
    "ifp_path = gromos_out_dir+\"/54A7.ifp\"\n",
    "mtb_path = gromos_out_dir+\"/omni_unitedatom_atb_solv.mtb\"\n"
   ],
   "metadata": {
    "collapsed": false,
    "pycharm": {
     "name": "#%%\n"
    }
   }
  },
  {
   "cell_type": "code",
   "execution_count": null,
   "outputs": [],
   "source": [
    "os.listdir(root_dir)"
   ],
   "metadata": {
    "collapsed": false,
    "pycharm": {
     "name": "#%%\n"
    }
   }
  },
  {
   "cell_type": "code",
   "execution_count": null,
   "outputs": [],
   "source": [
    "out_dir = root_dir+\"/all_thirteen\"\n",
    "sequence = [\"G27\", \"M09\", \"801\", \"6J2\", \"S00\", \"TVV\", \"E1V\", \"6KE\", \"M03\",\n",
    "            \"M21\", \"F31\", \"G07\", \"G20\"]\n",
    "out_top_path = out_dir+\"/out_all_thirteen.top\"\n",
    "\n",
    "gromPP.make_top(out_top_path=out_top_path, in_sequence=sequence,\n",
    "                in_building_block_lib_path=mtb_path, in_parameter_lib_path=ifp_path)\n"
   ],
   "metadata": {
    "collapsed": false,
    "pycharm": {
     "name": "#%%\n"
    }
   }
  },
  {
   "cell_type": "code",
   "execution_count": null,
   "outputs": [],
   "source": [],
   "metadata": {
    "collapsed": false,
    "pycharm": {
     "name": "#%%\n"
    }
   }
  }
 ],
 "metadata": {
  "kernelspec": {
   "display_name": "Python 3",
   "language": "python",
   "name": "python3"
  },
  "language_info": {
   "codemirror_mode": {
    "name": "ipython",
    "version": 2
   },
   "file_extension": ".py",
   "mimetype": "text/x-python",
   "name": "python",
   "nbconvert_exporter": "python",
   "pygments_lexer": "ipython2",
   "version": "2.7.6"
  }
 },
 "nbformat": 4,
 "nbformat_minor": 0
}