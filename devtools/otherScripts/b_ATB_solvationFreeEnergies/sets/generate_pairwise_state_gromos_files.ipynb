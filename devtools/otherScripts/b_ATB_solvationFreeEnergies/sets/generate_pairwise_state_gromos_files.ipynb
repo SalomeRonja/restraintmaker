{
 "cells": [
  {
   "cell_type": "markdown",
   "source": [
    "# Generate the systems for multistates"
   ],
   "metadata": {
    "collapsed": false,
    "pycharm": {
     "name": "#%% md\n"
    }
   }
  },
  {
   "cell_type": "code",
   "execution_count": 2,
   "outputs": [
    {
     "name": "stdout",
     "output_type": "stream",
     "text": [
      "all ['_O6T', '_O71', 'G277', 'S002', 'M097', '8018', 'M030', '6KET', 'F313', '_P8I', 'M097', 'G078', 'M218', '6J29', 'G209', 'E1VB', 'TVVS', '_O70']\n",
      "/home/bschroed/Documents/code/restraintmaker/devtools/otherScripts/b_ATB_solvationFreeEnergies/sets/multistate/all_fifthteen/all_fifthteen.cnf\n",
      "/home/bschroed/Documents/code/gromosPP/installed/bin/build_box @topo /home/bschroed/Documents/code/restraintmaker/devtools/otherScripts/b_ATB_solvationFreeEnergies/sets/multistate/all_fifthteen/all_fifthteen.top @pos /home/bschroed/Documents/code/restraintmaker/devtools/otherScripts/b_ATB_solvationFreeEnergies/sets/multistate/all_fifthteen/all_fifthteen.cnf @nsm 1 @dens 1.0 > /home/bschroed/Documents/code/restraintmaker/devtools/otherScripts/b_ATB_solvationFreeEnergies/sets/multistate/all_fifthteen/all_fifthteen_box.cnf \n",
      "\n",
      "/home/bschroed/Documents/code/gromosPP/installed/bin/sim_box @topo /home/bschroed/Documents/code/restraintmaker/devtools/otherScripts/b_ATB_solvationFreeEnergies/sets/multistate/all_fifthteen/all_fifthteen.top @pos /home/bschroed/Documents/code/restraintmaker/devtools/otherScripts/b_ATB_solvationFreeEnergies/sets/multistate/all_fifthteen/all_fifthteen_box.cnf @solvent /home/bschroed/Documents/code/restraintmaker/restraintmaker/submodules/pygromos/pygromos/data/solvents/spc.cnf  @boxsize  > /home/bschroed/Documents/code/restraintmaker/devtools/otherScripts/b_ATB_solvationFreeEnergies/sets/multistate/all_fifthteen/all_fifthteen_spc.cnf \n",
      "\n",
      "many ['_O6T', '_O71', 'M097', '8018', 'M030', '6KET', 'F313', '_P8I', 'M097', 'G078', 'M218', '6J29', 'G209', 'E1VB']\n",
      "/home/bschroed/Documents/code/restraintmaker/devtools/otherScripts/b_ATB_solvationFreeEnergies/sets/multistate/many_thirteen/many_thirteen.cnf\n",
      "/home/bschroed/Documents/code/gromosPP/installed/bin/build_box @topo /home/bschroed/Documents/code/restraintmaker/devtools/otherScripts/b_ATB_solvationFreeEnergies/sets/multistate/many_thirteen/many_thirteen.top @pos /home/bschroed/Documents/code/restraintmaker/devtools/otherScripts/b_ATB_solvationFreeEnergies/sets/multistate/many_thirteen/many_thirteen.cnf @nsm 1 @dens 1.0 > /home/bschroed/Documents/code/restraintmaker/devtools/otherScripts/b_ATB_solvationFreeEnergies/sets/multistate/many_thirteen/many_thirteen_box.cnf \n",
      "\n",
      "/home/bschroed/Documents/code/gromosPP/installed/bin/sim_box @topo /home/bschroed/Documents/code/restraintmaker/devtools/otherScripts/b_ATB_solvationFreeEnergies/sets/multistate/many_thirteen/many_thirteen.top @pos /home/bschroed/Documents/code/restraintmaker/devtools/otherScripts/b_ATB_solvationFreeEnergies/sets/multistate/many_thirteen/many_thirteen_box.cnf @solvent /home/bschroed/Documents/code/restraintmaker/restraintmaker/submodules/pygromos/pygromos/data/solvents/spc.cnf  @boxsize  > /home/bschroed/Documents/code/restraintmaker/devtools/otherScripts/b_ATB_solvationFreeEnergies/sets/multistate/many_thirteen/many_thirteen_spc.cnf \n",
      "\n",
      "challenging ['_O6T', 'G277', 'S002', 'G078', 'M218']\n",
      "/home/bschroed/Documents/code/restraintmaker/devtools/otherScripts/b_ATB_solvationFreeEnergies/sets/multistate/challenging_five/challenging_five.cnf\n",
      "/home/bschroed/Documents/code/gromosPP/installed/bin/build_box @topo /home/bschroed/Documents/code/restraintmaker/devtools/otherScripts/b_ATB_solvationFreeEnergies/sets/multistate/challenging_five/challenging_five.top @pos /home/bschroed/Documents/code/restraintmaker/devtools/otherScripts/b_ATB_solvationFreeEnergies/sets/multistate/challenging_five/challenging_five.cnf @nsm 1 @dens 1.0 > /home/bschroed/Documents/code/restraintmaker/devtools/otherScripts/b_ATB_solvationFreeEnergies/sets/multistate/challenging_five/challenging_five_box.cnf \n",
      "\n",
      "/home/bschroed/Documents/code/gromosPP/installed/bin/sim_box @topo /home/bschroed/Documents/code/restraintmaker/devtools/otherScripts/b_ATB_solvationFreeEnergies/sets/multistate/challenging_five/challenging_five.top @pos /home/bschroed/Documents/code/restraintmaker/devtools/otherScripts/b_ATB_solvationFreeEnergies/sets/multistate/challenging_five/challenging_five_box.cnf @solvent /home/bschroed/Documents/code/restraintmaker/restraintmaker/submodules/pygromos/pygromos/data/solvents/spc.cnf  @boxsize  > /home/bschroed/Documents/code/restraintmaker/devtools/otherScripts/b_ATB_solvationFreeEnergies/sets/multistate/challenging_five/challenging_five_spc.cnf \n",
      "\n",
      "singles ['M097', '8018', 'M030', '6KET', 'F313', '_P8I', 'M097', '_O6T', '_O71']\n",
      "/home/bschroed/Documents/code/restraintmaker/devtools/otherScripts/b_ATB_solvationFreeEnergies/sets/multistate/singles_nine/singles_nine.cnf\n",
      "/home/bschroed/Documents/code/gromosPP/installed/bin/build_box @topo /home/bschroed/Documents/code/restraintmaker/devtools/otherScripts/b_ATB_solvationFreeEnergies/sets/multistate/singles_nine/singles_nine.top @pos /home/bschroed/Documents/code/restraintmaker/devtools/otherScripts/b_ATB_solvationFreeEnergies/sets/multistate/singles_nine/singles_nine.cnf @nsm 1 @dens 1.0 > /home/bschroed/Documents/code/restraintmaker/devtools/otherScripts/b_ATB_solvationFreeEnergies/sets/multistate/singles_nine/singles_nine_box.cnf \n",
      "\n",
      "/home/bschroed/Documents/code/gromosPP/installed/bin/sim_box @topo /home/bschroed/Documents/code/restraintmaker/devtools/otherScripts/b_ATB_solvationFreeEnergies/sets/multistate/singles_nine/singles_nine.top @pos /home/bschroed/Documents/code/restraintmaker/devtools/otherScripts/b_ATB_solvationFreeEnergies/sets/multistate/singles_nine/singles_nine_box.cnf @solvent /home/bschroed/Documents/code/restraintmaker/restraintmaker/submodules/pygromos/pygromos/data/solvents/spc.cnf  @boxsize  > /home/bschroed/Documents/code/restraintmaker/devtools/otherScripts/b_ATB_solvationFreeEnergies/sets/multistate/singles_nine/singles_nine_spc.cnf \n",
      "\n",
      "flat ['_O6T', '_O71', 'S002', 'M097', '8018', '6KET', 'F313', '_P8I', 'M097', 'G078']\n",
      "/home/bschroed/Documents/code/restraintmaker/devtools/otherScripts/b_ATB_solvationFreeEnergies/sets/multistate/flat_ten/flat_ten.cnf\n",
      "/home/bschroed/Documents/code/gromosPP/installed/bin/build_box @topo /home/bschroed/Documents/code/restraintmaker/devtools/otherScripts/b_ATB_solvationFreeEnergies/sets/multistate/flat_ten/flat_ten.top @pos /home/bschroed/Documents/code/restraintmaker/devtools/otherScripts/b_ATB_solvationFreeEnergies/sets/multistate/flat_ten/flat_ten.cnf @nsm 1 @dens 1.0 > /home/bschroed/Documents/code/restraintmaker/devtools/otherScripts/b_ATB_solvationFreeEnergies/sets/multistate/flat_ten/flat_ten_box.cnf \n",
      "\n",
      "/home/bschroed/Documents/code/gromosPP/installed/bin/sim_box @topo /home/bschroed/Documents/code/restraintmaker/devtools/otherScripts/b_ATB_solvationFreeEnergies/sets/multistate/flat_ten/flat_ten.top @pos /home/bschroed/Documents/code/restraintmaker/devtools/otherScripts/b_ATB_solvationFreeEnergies/sets/multistate/flat_ten/flat_ten_box.cnf @solvent /home/bschroed/Documents/code/restraintmaker/restraintmaker/submodules/pygromos/pygromos/data/solvents/spc.cnf  @boxsize  > /home/bschroed/Documents/code/restraintmaker/devtools/otherScripts/b_ATB_solvationFreeEnergies/sets/multistate/flat_ten/flat_ten_spc.cnf \n",
      "\n",
      "easy ['_O6T', '_O71', 'M097', '6KET', 'F313']\n",
      "/home/bschroed/Documents/code/restraintmaker/devtools/otherScripts/b_ATB_solvationFreeEnergies/sets/multistate/easy_five/easy_five.cnf\n",
      "/home/bschroed/Documents/code/gromosPP/installed/bin/build_box @topo /home/bschroed/Documents/code/restraintmaker/devtools/otherScripts/b_ATB_solvationFreeEnergies/sets/multistate/easy_five/easy_five.top @pos /home/bschroed/Documents/code/restraintmaker/devtools/otherScripts/b_ATB_solvationFreeEnergies/sets/multistate/easy_five/easy_five.cnf @nsm 1 @dens 1.0 > /home/bschroed/Documents/code/restraintmaker/devtools/otherScripts/b_ATB_solvationFreeEnergies/sets/multistate/easy_five/easy_five_box.cnf \n",
      "\n",
      "/home/bschroed/Documents/code/gromosPP/installed/bin/sim_box @topo /home/bschroed/Documents/code/restraintmaker/devtools/otherScripts/b_ATB_solvationFreeEnergies/sets/multistate/easy_five/easy_five.top @pos /home/bschroed/Documents/code/restraintmaker/devtools/otherScripts/b_ATB_solvationFreeEnergies/sets/multistate/easy_five/easy_five_box.cnf @solvent /home/bschroed/Documents/code/restraintmaker/restraintmaker/submodules/pygromos/pygromos/data/solvents/spc.cnf  @boxsize  > /home/bschroed/Documents/code/restraintmaker/devtools/otherScripts/b_ATB_solvationFreeEnergies/sets/multistate/easy_five/easy_five_spc.cnf \n",
      "\n"
     ]
    }
   ],
   "source": [
    "#IMPORT\n",
    "import os, sys, glob\n",
    "import time\n",
    "\n",
    "from collections import defaultdict\n",
    "from pygromos.gromos.gromosPP import GromosPP\n",
    "from pygromos.gromos.gromosXX import GromosXX\n",
    "from pygromos.files import imd\n",
    "\n",
    "import restraintmaker\n",
    "\n",
    "#CHANGE HERE\n",
    "gromos_bin_path = \"/home/bschroed/Documents/code/gromosPP/installed/bin\"\n",
    "restraintmaker_path = os.path.abspath(os.path.dirname(restraintmaker.__file__)+\"/..\")"
   ],
   "metadata": {
    "collapsed": false,
    "pycharm": {
     "name": "#%%\n"
    }
   }
  },
  {
   "cell_type": "markdown",
   "source": [
    "## Path definitions\n",
    "generate the subfolders for the systems - no changes required here."
   ],
   "metadata": {
    "collapsed": false
   }
  },
  {
   "cell_type": "code",
   "execution_count": null,
   "outputs": [],
   "source": [
    "sets_dir = restraintmaker_path+\"/devtools/otherScripts/b_ATB_solvationFreeEnergies/sets\"\n",
    "mstate_dir = sets_dir+\"/multistate\"\n",
    "pairwise_dir = sets_dir+\"/pairwise\"\n",
    "\n",
    "resn_lib_path = sets_dir+\"/resn_lib.lib\"\n",
    "\n",
    "\n",
    "gromPP = GromosPP(gromos_bin_path)\n",
    "atb_dirs = restraintmaker_path+\"/devtools/otherScripts/b_ATB_solvationFreeEnergies/ATB_molecules\"\n",
    "sys.path.append(atb_dirs+\"/..\")\n",
    "\n",
    "sets_dir = restraintmaker_path+\"/devtools/otherScripts/b_ATB_solvationFreeEnergies/sets\"\n",
    "mstate_dir = sets_dir+\"/multistate\"\n",
    "\n",
    "if(not os.path.exists(mstate_dir)):\n",
    "    os.mkdir(mstate_dir)\n",
    "\n",
    "##get all_single file_tops:\n",
    "all_tops = glob.glob(atb_dirs+\"/*/*top\")\n",
    "state_all_tops={os.path.basename(value).split(\".\")[0]: value for value in all_tops}\n",
    "all_mstate_sys = glob.glob(mstate_dir+\"/*\")\n",
    "\n"
   ],
   "metadata": {
    "collapsed": false,
    "pycharm": {
     "name": "#%%\n"
    }
   }
  },
  {
   "cell_type": "markdown",
   "source": [
    "## Build gromos files"
   ],
   "metadata": {
    "collapsed": false
   }
  },
  {
   "cell_type": "code",
   "execution_count": null,
   "outputs": [],
   "source": [
    "import utils_test_set_ATB as utils\n",
    "all_states = utils.multistate_ligand_sets[\"all\"]\n",
    "all_combos = os.listdir(pairwise_dir)\n",
    "all_combos = [x if(len(x)==2) else (x[0], \"_\"+x[2]) for x in list(map(lambda x: x.split(\"_\"), all_combos))]\n",
    "print(all_combos)\n",
    "gromXX = GromosXX(\"/home/bschroed/Documents/code/gromosXX/installed/bin\")\n",
    "for state_a, state_b in all_combos:\n",
    "        system_tops = [state_all_tops[x] for x in [state_a, state_b]]\n",
    "\n",
    "        name = state_a+\"_\"+state_b\n",
    "        out_dir = pairwise_dir+\"/\"+name\n",
    "        out_prefix_path = out_dir+\"/\"+name\n",
    "        print(name, [state_a, state_b])\n",
    "\n",
    "        if(not os.path.exists(out_dir)):\n",
    "            os.mkdir(out_dir)\n",
    "\n",
    "        #build dualTop system\n",
    "        out_top_path, out_ptp_path = gromPP.prep_eds(in_top_paths=system_tops, number_of_eds_states=len(system_tops), out_file_path=out_prefix_path)\n",
    "\n",
    "        #generate cnf\n",
    "        in_pdb = glob.glob(out_dir+\"/*.pdb\")[0]\n",
    "        out_cnf_path = gromPP.pdb2gromos(in_pdb_path=in_pdb, in_top_path=out_top_path, in_lib_path=resn_lib_path,\n",
    "                                         out_cnf_path=out_prefix_path+\".cnf\")\n",
    "\n",
    "        #build posres/refpos\n",
    "        from pygromos.files.coord import cnf\n",
    "        cnf_file = cnf.Cnf(out_cnf_path)\n",
    "        refpos_path,_ = cnf_file.write_refpos(out_prefix_path+\".rfp\")\n",
    "        posresspec_path,_ = cnf_file.write_possrespec(out_prefix_path+\".por\", residues=list(cnf_file.residues.keys()))\n",
    "\n",
    "        print(out_cnf_path)"
   ],
   "metadata": {
    "collapsed": false,
    "pycharm": {
     "name": "#%%\n"
    }
   }
  },
  {
   "cell_type": "markdown",
   "source": [
    "## Emin vac"
   ],
   "metadata": {
    "collapsed": false,
    "pycharm": {
     "name": "#%% md\n"
    }
   }
  },
  {
   "cell_type": "code",
   "execution_count": null,
   "outputs": [],
   "source": [
    "        #vac - emin\n",
    "        from pygromos.data.imd_templates import template_emin\n",
    "        from pygromos.files.blocks import imd_blocks\n",
    "\n",
    "        in_imd = imd.Imd(template_emin)\n",
    "        in_imd.STEP.NSTLIM = 10\n",
    "        in_imd.SYSTEM.NSM = 0\n",
    "        in_imd.FORCE.NRE =[12,28]\n",
    "        in_imd_path = in_imd.write(out_path=out_dir+\"/vac_emin.imd\")\n",
    "\n",
    "        gromXX.md_run(in_coord_path=out_cnf_path, in_topo_path=out_top_path, in_imd_path=in_imd_path,out_prefix=out_dir+\"/emin\",\n",
    "                      in_pert_topo_path=out_ptp_path, in_refpos_path=refpos_path, in_posresspec_path=posresspec_path)\n",
    "                      #in_disres_path=out_prefix_path+\".disres\")\n",
    "\n",
    "        break\n",
    "\n"
   ],
   "metadata": {
    "collapsed": false,
    "pycharm": {
     "name": "#%%\n"
    }
   }
  }
 ],
 "metadata": {
  "kernelspec": {
   "display_name": "Python 3",
   "language": "python",
   "name": "python3"
  },
  "language_info": {
   "codemirror_mode": {
    "name": "ipython",
    "version": 2
   },
   "file_extension": ".py",
   "mimetype": "text/x-python",
   "name": "python",
   "nbconvert_exporter": "python",
   "pygments_lexer": "ipython2",
   "version": "2.7.6"
  }
 },
 "nbformat": 4,
 "nbformat_minor": 0
}