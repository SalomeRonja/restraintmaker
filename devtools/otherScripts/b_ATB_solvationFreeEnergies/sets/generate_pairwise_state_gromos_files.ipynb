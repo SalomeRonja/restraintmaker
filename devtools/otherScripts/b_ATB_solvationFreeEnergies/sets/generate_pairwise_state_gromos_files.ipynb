{
 "cells": [
  {
   "cell_type": "markdown",
   "source": [
    "# Generate the systems for multistates"
   ],
   "metadata": {
    "collapsed": false,
    "pycharm": {
     "name": "#%% md\n"
    }
   }
  },
  {
   "cell_type": "code",
   "execution_count": 13,
   "outputs": [],
   "source": [
    "#IMPORT\n",
    "import os, sys, glob\n",
    "import time\n",
    "\n",
    "from collections import defaultdict\n",
    "from pygromos.gromos.gromosPP import GromosPP\n",
    "from pygromos.gromos.gromosXX import GromosXX\n",
    "from pygromos.files.simulation_parameters import imd\n",
    "from pygromos.data import solvent_coordinates as solvents\n",
    "\n",
    "from pygromos.files.coord import cnf\n",
    "from pygromos.files.blocks.coord_blocks import GENBOX, Pbc\n",
    "from pygromos.files.blocks import imd_blocks\n",
    "\n",
    "import restraintmaker\n",
    "\n",
    "#CHANGE HERE\n",
    "gromosPP_bin_path = \"/home/bschroed/Documents/code/gromosPP/installed/bin\"\n",
    "gromosXX_bin_path = \"/home/bschroed/Documents/code/gromosXX/installed/bin\"\n",
    "restraintmaker_path = os.path.abspath(os.path.dirname(restraintmaker.__file__)+\"/..\")"
   ],
   "metadata": {
    "collapsed": false,
    "pycharm": {
     "name": "#%%\n"
    }
   }
  },
  {
   "cell_type": "markdown",
   "source": [
    "## Path definitions\n",
    "generate the subfolders for the systems - no changes required here."
   ],
   "metadata": {
    "collapsed": false
   }
  },
  {
   "cell_type": "code",
   "execution_count": 14,
   "outputs": [],
   "source": [
    "sets_dir = restraintmaker_path+\"/devtools/otherScripts/b_ATB_solvationFreeEnergies/sets\"\n",
    "pairwise_dir = sets_dir+\"/pairwise\"\n",
    "\n",
    "resn_lib_path = sets_dir+\"/resn_lib.lib\"\n",
    "\n",
    "\n",
    "gromPP = GromosPP(gromosPP_bin_path)\n",
    "gromXX = GromosXX(gromosXX_bin_path)\n",
    "\n",
    "atb_dirs = restraintmaker_path+\"/devtools/otherScripts/b_ATB_solvationFreeEnergies/ATB_molecules\"\n",
    "sys.path.append(atb_dirs+\"/..\")\n",
    "\n",
    "##get all_single file_tops:\n",
    "all_tops = glob.glob(atb_dirs+\"/*/*top\")\n",
    "state_all_tops={os.path.basename(value).split(\".\")[0]: value for value in all_tops}\n",
    "\n"
   ],
   "metadata": {
    "collapsed": false,
    "pycharm": {
     "name": "#%%\n"
    }
   }
  },
  {
   "cell_type": "markdown",
   "source": [
    "## Build gromos files"
   ],
   "metadata": {
    "collapsed": false
   }
  },
  {
   "cell_type": "code",
   "execution_count": 15,
   "outputs": [
    {
     "name": "stdout",
     "output_type": "stream",
     "text": [
      "['M097__O6T', 'M030__O71', 'prepare_distance_restraints.py', 'M030_F313', 'M030_ligs_tree.png', 'M030_G277', 'M030_E1VB', 'M097_6KET', 'M097_F313', '6KET_F313', 'M030_M097', 'M030_G078', 'F313_G277', 'M030__O70', 'M030__O6T', 'M097_G277', 'M030_6J29', 'S002_M030', 'M030_8018', 'M030_TVVS', 'G277__O6T', 'M030_6KET', '6KET_G277', 'M030_G209', 'M030_M218', '6KET__O6T', 'F313__O6T', 'M030__P8I']\n"
     ]
    }
   ],
   "source": [
    "import time\n",
    "from pygromos.utils import bash\n",
    "import utils_test_set_ATB as utils\n",
    "all_states = utils.multistate_ligand_sets[\"all\"]\n",
    "all_combos = [x for x in os.listdir(pairwise_dir) if(os.path.isdir(pairwise_dir+\"/\"+x))]\n",
    "print(os.listdir(pairwise_dir))\n",
    "\n",
    "all_combos = [x if(len(x)==2) else (x[0], \"_\"+x[2]) for x in list(map(lambda x: x.split(\"_\"), all_combos))]\n",
    "#print(all_combos)\n",
    "#print()\n",
    "\n",
    "#all_ligs = [\"_O6T\", \"G277\", \"M097\", \"6KET\", \"F313\"]\n",
    "#from itertools import combinations\n",
    "#all_combos = list(combinations(all_ligs,2))\n",
    "#print(all_combos)\n",
    "\n",
    "#all_combos = [[\"M097\", \"G277\"], [\"G277\", \"M097\"], [\"G277\", \"6KET\"], [\"F313\", \"_O6T\"], [\"_O6T\", \"F313\"], [\"_O6T\", \"6KET\"], [\"6KET\", \"M097\"], [\"6KET\", \"F313\"], [\"6KET\", \"_O6T\"],[\"6KET\", \"G277\"]]\n",
    "#all_combos += [[\"_O6T\", \"G277\"], [\"_O6T\", \"M097\"], [\"G277\", \"F313\"], [\"G277\", \"M097\"], [\"M097\", \"6KET\"], [\"M097\", \"F313\"]]\n",
    "#all_combos += [[\"8018\", \"6J29\"]]\n"
   ],
   "metadata": {
    "collapsed": false,
    "pycharm": {
     "name": "#%%\n"
    }
   }
  },
  {
   "cell_type": "code",
   "execution_count": 16,
   "outputs": [
    {
     "name": "stdout",
     "output_type": "stream",
     "text": [
      "M097__O6T ['M097', '_O6T']\n",
      "['/home/bschroed/Documents/code/restraintmaker/devtools/otherScripts/b_ATB_solvationFreeEnergies/sets/pairwise/M097__O6T/M097__O6T.pdb']\n",
      "Cnf\n",
      "gromosPP.frameout: command:\n",
      "/home/bschroed/Documents/code/gromosPP/installed/bin/frameout @topo /home/bschroed/Documents/code/restraintmaker/devtools/otherScripts/b_ATB_solvationFreeEnergies/sets/pairwise/M097__O6T/M097__O6T.top @traj /home/bschroed/Documents/code/restraintmaker/devtools/otherScripts/b_ATB_solvationFreeEnergies/sets/pairwise/M097__O6T/M097__O6T.cnf @pbc v  @outformat pdb @include SOLUTE @time 0 \n",
      "STDOUT:  \n",
      "/home/bschroed/Documents/code/gromosPP/installed/bin/sim_box @topo /home/bschroed/Documents/code/restraintmaker/devtools/otherScripts/b_ATB_solvationFreeEnergies/sets/pairwise/M097__O6T/M097__O6T.top @pbc r cog @pos /home/bschroed/Documents/code/restraintmaker/devtools/otherScripts/b_ATB_solvationFreeEnergies/sets/pairwise/M097__O6T/M097__O6T_box.cnf @solvent /home/bschroed/Documents/code/restraintmaker/restraintmaker/submodules/PyGromosTools/pygromos/data/solvent_coordinates/spc.cnf  @boxsize True\n",
      "\texecute command: \n",
      "\t/home/bschroed/Documents/code/gromosPP/installed/bin/sim_box @topo /home/bschroed/Documents/code/restraintmaker/devtools/otherScripts/b_ATB_solvationFreeEnergies/sets/pairwise/M097__O6T/M097__O6T.top @pbc r cog @pos /home/bschroed/Documents/code/restraintmaker/devtools/otherScripts/b_ATB_solvationFreeEnergies/sets/pairwise/M097__O6T/M097__O6T_box.cnf @solvent /home/bschroed/Documents/code/restraintmaker/restraintmaker/submodules/PyGromosTools/pygromos/data/solvent_coordinates/spc.cnf  @boxsize True\n",
      "RETURN:  0\n",
      "M030__O71 ['M030', '_O71']\n",
      "M030_F313 ['M030', 'F313']\n",
      "M030_G277 ['M030', 'G277']\n",
      "M030_E1VB ['M030', 'E1VB']\n",
      "M097_6KET ['M097', '6KET']\n",
      "M097_F313 ['M097', 'F313']\n",
      "6KET_F313 ['6KET', 'F313']\n",
      "M030_M097 ['M030', 'M097']\n",
      "M030_G078 ['M030', 'G078']\n",
      "F313_G277 ['F313', 'G277']\n",
      "['/home/bschroed/Documents/code/restraintmaker/devtools/otherScripts/b_ATB_solvationFreeEnergies/sets/pairwise/F313_G277/F313_G277.pdb']\n",
      "Cnf\n",
      "gromosPP.frameout: command:\n",
      "/home/bschroed/Documents/code/gromosPP/installed/bin/frameout @topo /home/bschroed/Documents/code/restraintmaker/devtools/otherScripts/b_ATB_solvationFreeEnergies/sets/pairwise/F313_G277/F313_G277.top @traj /home/bschroed/Documents/code/restraintmaker/devtools/otherScripts/b_ATB_solvationFreeEnergies/sets/pairwise/F313_G277/F313_G277.cnf @pbc v  @outformat pdb @include SOLUTE @time 0 \n",
      "STDOUT:  \n",
      "/home/bschroed/Documents/code/gromosPP/installed/bin/sim_box @topo /home/bschroed/Documents/code/restraintmaker/devtools/otherScripts/b_ATB_solvationFreeEnergies/sets/pairwise/F313_G277/F313_G277.top @pbc r cog @pos /home/bschroed/Documents/code/restraintmaker/devtools/otherScripts/b_ATB_solvationFreeEnergies/sets/pairwise/F313_G277/F313_G277_box.cnf @solvent /home/bschroed/Documents/code/restraintmaker/restraintmaker/submodules/PyGromosTools/pygromos/data/solvent_coordinates/spc.cnf  @boxsize True\n",
      "\texecute command: \n",
      "\t/home/bschroed/Documents/code/gromosPP/installed/bin/sim_box @topo /home/bschroed/Documents/code/restraintmaker/devtools/otherScripts/b_ATB_solvationFreeEnergies/sets/pairwise/F313_G277/F313_G277.top @pbc r cog @pos /home/bschroed/Documents/code/restraintmaker/devtools/otherScripts/b_ATB_solvationFreeEnergies/sets/pairwise/F313_G277/F313_G277_box.cnf @solvent /home/bschroed/Documents/code/restraintmaker/restraintmaker/submodules/PyGromosTools/pygromos/data/solvent_coordinates/spc.cnf  @boxsize True\n",
      "RETURN:  0\n",
      "M030__O70 ['M030', '_O70']\n",
      "M030__O6T ['M030', '_O6T']\n",
      "M097_G277 ['M097', 'G277']\n",
      "M030_6J29 ['M030', '6J29']\n",
      "S002_M030 ['S002', 'M030']\n",
      "M030_8018 ['M030', '8018']\n",
      "M030_TVVS ['M030', 'TVVS']\n",
      "G277__O6T ['G277', '_O6T']\n",
      "['/home/bschroed/Documents/code/restraintmaker/devtools/otherScripts/b_ATB_solvationFreeEnergies/sets/pairwise/G277__O6T/G277__O6T.pdb']\n",
      "Cnf\n",
      "gromosPP.frameout: command:\n",
      "/home/bschroed/Documents/code/gromosPP/installed/bin/frameout @topo /home/bschroed/Documents/code/restraintmaker/devtools/otherScripts/b_ATB_solvationFreeEnergies/sets/pairwise/G277__O6T/G277__O6T.top @traj /home/bschroed/Documents/code/restraintmaker/devtools/otherScripts/b_ATB_solvationFreeEnergies/sets/pairwise/G277__O6T/G277__O6T.cnf @pbc v  @outformat pdb @include SOLUTE @time 0 \n",
      "STDOUT:  \n",
      "/home/bschroed/Documents/code/gromosPP/installed/bin/sim_box @topo /home/bschroed/Documents/code/restraintmaker/devtools/otherScripts/b_ATB_solvationFreeEnergies/sets/pairwise/G277__O6T/G277__O6T.top @pbc r cog @pos /home/bschroed/Documents/code/restraintmaker/devtools/otherScripts/b_ATB_solvationFreeEnergies/sets/pairwise/G277__O6T/G277__O6T_box.cnf @solvent /home/bschroed/Documents/code/restraintmaker/restraintmaker/submodules/PyGromosTools/pygromos/data/solvent_coordinates/spc.cnf  @boxsize True\n",
      "\texecute command: \n",
      "\t/home/bschroed/Documents/code/gromosPP/installed/bin/sim_box @topo /home/bschroed/Documents/code/restraintmaker/devtools/otherScripts/b_ATB_solvationFreeEnergies/sets/pairwise/G277__O6T/G277__O6T.top @pbc r cog @pos /home/bschroed/Documents/code/restraintmaker/devtools/otherScripts/b_ATB_solvationFreeEnergies/sets/pairwise/G277__O6T/G277__O6T_box.cnf @solvent /home/bschroed/Documents/code/restraintmaker/restraintmaker/submodules/PyGromosTools/pygromos/data/solvent_coordinates/spc.cnf  @boxsize True\n",
      "RETURN:  0\n",
      "M030_6KET ['M030', '6KET']\n",
      "6KET_G277 ['6KET', 'G277']\n",
      "M030_G209 ['M030', 'G209']\n",
      "M030_M218 ['M030', 'M218']\n",
      "6KET__O6T ['6KET', '_O6T']\n",
      "['/home/bschroed/Documents/code/restraintmaker/devtools/otherScripts/b_ATB_solvationFreeEnergies/sets/pairwise/6KET__O6T/6KET__O6T.pdb']\n",
      "Cnf\n",
      "gromosPP.frameout: command:\n",
      "/home/bschroed/Documents/code/gromosPP/installed/bin/frameout @topo /home/bschroed/Documents/code/restraintmaker/devtools/otherScripts/b_ATB_solvationFreeEnergies/sets/pairwise/6KET__O6T/6KET__O6T.top @traj /home/bschroed/Documents/code/restraintmaker/devtools/otherScripts/b_ATB_solvationFreeEnergies/sets/pairwise/6KET__O6T/6KET__O6T.cnf @pbc v  @outformat pdb @include SOLUTE @time 0 \n",
      "STDOUT:  \n",
      "/home/bschroed/Documents/code/gromosPP/installed/bin/sim_box @topo /home/bschroed/Documents/code/restraintmaker/devtools/otherScripts/b_ATB_solvationFreeEnergies/sets/pairwise/6KET__O6T/6KET__O6T.top @pbc r cog @pos /home/bschroed/Documents/code/restraintmaker/devtools/otherScripts/b_ATB_solvationFreeEnergies/sets/pairwise/6KET__O6T/6KET__O6T_box.cnf @solvent /home/bschroed/Documents/code/restraintmaker/restraintmaker/submodules/PyGromosTools/pygromos/data/solvent_coordinates/spc.cnf  @boxsize True\n",
      "\texecute command: \n",
      "\t/home/bschroed/Documents/code/gromosPP/installed/bin/sim_box @topo /home/bschroed/Documents/code/restraintmaker/devtools/otherScripts/b_ATB_solvationFreeEnergies/sets/pairwise/6KET__O6T/6KET__O6T.top @pbc r cog @pos /home/bschroed/Documents/code/restraintmaker/devtools/otherScripts/b_ATB_solvationFreeEnergies/sets/pairwise/6KET__O6T/6KET__O6T_box.cnf @solvent /home/bschroed/Documents/code/restraintmaker/restraintmaker/submodules/PyGromosTools/pygromos/data/solvent_coordinates/spc.cnf  @boxsize True\n",
      "RETURN:  0\n",
      "F313__O6T ['F313', '_O6T']\n",
      "['/home/bschroed/Documents/code/restraintmaker/devtools/otherScripts/b_ATB_solvationFreeEnergies/sets/pairwise/F313__O6T/F313__O6T.pdb']\n",
      "Cnf\n",
      "gromosPP.frameout: command:\n",
      "/home/bschroed/Documents/code/gromosPP/installed/bin/frameout @topo /home/bschroed/Documents/code/restraintmaker/devtools/otherScripts/b_ATB_solvationFreeEnergies/sets/pairwise/F313__O6T/F313__O6T.top @traj /home/bschroed/Documents/code/restraintmaker/devtools/otherScripts/b_ATB_solvationFreeEnergies/sets/pairwise/F313__O6T/F313__O6T.cnf @pbc v  @outformat pdb @include SOLUTE @time 0 \n",
      "STDOUT:  \n",
      "/home/bschroed/Documents/code/gromosPP/installed/bin/sim_box @topo /home/bschroed/Documents/code/restraintmaker/devtools/otherScripts/b_ATB_solvationFreeEnergies/sets/pairwise/F313__O6T/F313__O6T.top @pbc r cog @pos /home/bschroed/Documents/code/restraintmaker/devtools/otherScripts/b_ATB_solvationFreeEnergies/sets/pairwise/F313__O6T/F313__O6T_box.cnf @solvent /home/bschroed/Documents/code/restraintmaker/restraintmaker/submodules/PyGromosTools/pygromos/data/solvent_coordinates/spc.cnf  @boxsize True\n",
      "\texecute command: \n",
      "\t/home/bschroed/Documents/code/gromosPP/installed/bin/sim_box @topo /home/bschroed/Documents/code/restraintmaker/devtools/otherScripts/b_ATB_solvationFreeEnergies/sets/pairwise/F313__O6T/F313__O6T.top @pbc r cog @pos /home/bschroed/Documents/code/restraintmaker/devtools/otherScripts/b_ATB_solvationFreeEnergies/sets/pairwise/F313__O6T/F313__O6T_box.cnf @solvent /home/bschroed/Documents/code/restraintmaker/restraintmaker/submodules/PyGromosTools/pygromos/data/solvent_coordinates/spc.cnf  @boxsize True\n",
      "RETURN:  0\n",
      "M030__P8I ['M030', '_P8I']\n"
     ]
    }
   ],
   "source": [
    "for state_a, state_b in all_combos:\n",
    "\n",
    "\n",
    "    name = state_a+\"_\"+state_b\n",
    "    out_dir = pairwise_dir+\"/\"+name\n",
    "    out_prefix_path = out_dir+\"/\"+name\n",
    "    print(name, [state_a, state_b])\n",
    "\n",
    "    if(os.path.exists(out_prefix_path+\"_solv.pdb\")):\n",
    "        continue\n",
    "\n",
    "    if(len(glob.glob(out_dir+\"/*.pdb\")) == 0 ):\n",
    "        continue\n",
    "\n",
    "    if(not os.path.isdir(out_dir)):\n",
    "        bash.make_folder(out_dir)\n",
    "    #build dualTop system\n",
    "    system_tops = [state_all_tops[x] for x in [state_a, state_b]]\n",
    "\n",
    "    out_top_path, out_ptp_path = gromPP.prep_eds(in_top_paths=system_tops, number_of_eds_states=len(system_tops), out_file_path=out_prefix_path)\n",
    "\n",
    "    #generate cnf\n",
    "    print(glob.glob(out_dir+\"/*.pdb\"))\n",
    "    in_pdb = glob.glob(out_dir+\"/*.pdb\")[0]\n",
    "    out_cnf_path = gromPP.pdb2gromos(in_pdb_path=in_pdb, in_top_path=out_top_path, in_lib_path=resn_lib_path,\n",
    "                                     out_cnf_path=out_prefix_path+\".cnf\")\n",
    "\n",
    "    ##build box\n",
    "    box_cnf = cnf.Cnf(out_cnf_path)\n",
    "    box_cnf.supress_atomPosition_singulrarities()\n",
    "    box_cnf.add_block(block=GENBOX(pbc=Pbc.rectangular,\n",
    "                            length=[3.610220118 for x in range(3)],\n",
    "                            angles=[90 for x in range(3)],\n",
    "                            euler=[0 for x in range(3)],\n",
    "                            origin=[0 for x in range(3)]))\n",
    "    box_cnf_path = box_cnf.write(out_cnf_path.replace(\".cnf\", \"_box.cnf\"))\n",
    "\n",
    "    #build posres/refpos\n",
    "    refpos_path = box_cnf.write_refpos(out_prefix_path+\".rfp\")\n",
    "    posresspec_path = box_cnf.write_possrespec(out_prefix_path+\".por\", residues=list(box_cnf.residues.keys()))\n",
    "\n",
    "    gromPP.frameout(in_top_path=out_top_path, in_coord_path=out_cnf_path, periodic_boundary_condition=\"v\",\n",
    "                out_file_path=out_prefix_path+\"_box.pdb\", out_file_format=\"pdb\", time=0, verbose=True)\n",
    "\n",
    "    #solvate\n",
    "    out_solv_cnf_path=out_prefix_path+\"_spc.cnf\"\n",
    "    gromPP.sim_box(in_top_path=out_top_path, minwall=None, in_cnf_path=box_cnf_path, in_solvent_cnf_file_path=solvents.spc,\n",
    "                   out_cnf_path=out_solv_cnf_path, periodic_boundary_condition=\"r cog\", gathering_method=None,  boxsize=True, verbose=True)\n",
    "    time.sleep(2)\n",
    "\n",
    "    gromPP.frameout(in_top_path=out_top_path, in_coord_path=out_solv_cnf_path, periodic_boundary_condition=\"r cog\",\n",
    "                    out_file_path=out_prefix_path+\"_solv.pdb\", include=\"all\", out_file_format=\"pdb\", time=0)"
   ],
   "metadata": {
    "collapsed": false,
    "pycharm": {
     "name": "#%%\n"
    }
   }
  },
  {
   "cell_type": "code",
   "execution_count": 3,
   "outputs": [],
   "source": [],
   "metadata": {
    "collapsed": false,
    "pycharm": {
     "name": "#%%\n"
    }
   }
  }
 ],
 "metadata": {
  "kernelspec": {
   "display_name": "Python 3",
   "language": "python",
   "name": "python3"
  },
  "language_info": {
   "codemirror_mode": {
    "name": "ipython",
    "version": 2
   },
   "file_extension": ".py",
   "mimetype": "text/x-python",
   "name": "python",
   "nbconvert_exporter": "python",
   "pygments_lexer": "ipython2",
   "version": "2.7.6"
  }
 },
 "nbformat": 4,
 "nbformat_minor": 0
}