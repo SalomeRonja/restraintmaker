{
 "cells": [
  {
   "cell_type": "markdown",
   "source": [
    "# Generate the systems for multistates"
   ],
   "metadata": {
    "collapsed": false,
    "pycharm": {
     "name": "#%% md\n"
    }
   }
  },
  {
   "cell_type": "code",
   "execution_count": 2,
   "outputs": [
    {
     "name": "stderr",
     "output_type": "stream",
     "text": [
      "/home/bschroed/Documents/code/restraintmaker/restraintmaker/submodules/pygromos/pygromos/files/topology/top.py:20: UserWarning: Module topo-files is under Development and not entirely implemented!\n",
      "  warnings.warn(\"Module topo-files is under Development and not entirely implemented!\")\n"
     ]
    }
   ],
   "source": [
    "#IMPORT\n",
    "import os, sys, glob\n",
    "import time\n",
    "\n",
    "from collections import defaultdict\n",
    "from pygromos.gromos.gromosPP import GromosPP\n",
    "from pygromos.gromos.gromosXX import GromosXX\n",
    "from pygromos.files import imd\n",
    "from pygromos.data import solvents\n",
    "\n",
    "from pygromos.files.coord import cnf\n",
    "from pygromos.files.blocks.coord_blocks import GENBOX, Pbc\n",
    "from pygromos.files.blocks import imd_blocks\n",
    "from pygromos.data import imd_templates\n",
    "\n",
    "import restraintmaker\n",
    "\n",
    "#CHANGE HERE\n",
    "gromosPP_bin_path = \"/home/bschroed/Documents/code/gromosPP/installed/bin\"\n",
    "gromosXX_bin_path = \"/home/bschroed/Documents/code/gromosXX/installed/bin\"\n",
    "restraintmaker_path = os.path.abspath(os.path.dirname(restraintmaker.__file__)+\"/..\")\n",
    "emin_imd = imd_templates.template_emin"
   ],
   "metadata": {
    "collapsed": false,
    "pycharm": {
     "name": "#%%\n"
    }
   }
  },
  {
   "cell_type": "markdown",
   "source": [
    "## Path definitions\n",
    "generate the subfolders for the systems - no changes required here."
   ],
   "metadata": {
    "collapsed": false
   }
  },
  {
   "cell_type": "code",
   "execution_count": 3,
   "outputs": [
    {
     "name": "stdout",
     "output_type": "stream",
     "text": [
      "\n",
      "GROMOSPATH /home/bschroed/Documents/code/gromosXX/installed/bin/\n"
     ]
    }
   ],
   "source": [
    "sets_dir = restraintmaker_path+\"/devtools/otherScripts/b_ATB_solvationFreeEnergies/sets\"\n",
    "pairwise_dir = sets_dir+\"/pairwise\"\n",
    "\n",
    "resn_lib_path = sets_dir+\"/resn_lib.lib\"\n",
    "\n",
    "\n",
    "gromPP = GromosPP(gromosPP_bin_path)\n",
    "gromXX = GromosXX(gromosXX_bin_path)\n",
    "\n",
    "atb_dirs = restraintmaker_path+\"/devtools/otherScripts/b_ATB_solvationFreeEnergies/ATB_molecules\"\n",
    "sys.path.append(atb_dirs+\"/..\")\n",
    "\n",
    "##get all_single file_tops:\n",
    "all_tops = glob.glob(atb_dirs+\"/*/*top\")\n",
    "state_all_tops={os.path.basename(value).split(\".\")[0]: value for value in all_tops}\n",
    "\n"
   ],
   "metadata": {
    "collapsed": false,
    "pycharm": {
     "name": "#%%\n"
    }
   }
  },
  {
   "cell_type": "markdown",
   "source": [
    "## Build gromos files"
   ],
   "metadata": {
    "collapsed": false
   }
  },
  {
   "cell_type": "code",
   "execution_count": 4,
   "outputs": [
    {
     "name": "stdout",
     "output_type": "stream",
     "text": [
      "[('M030', '_O71'), ['M030', 'F313'], ['M030', 'G277'], ['M030', 'E1VB'], ['6J29', 'G078'], ['M030', 'M097'], ['M030', 'G078'], ['M030', 'S002'], ('M030', '_O70'), ('M030', '_O6T'), ['M030', '6J29'], ['M030', '8018'], ['M030', 'TVVS'], ['M030', '6KET'], ['M030', 'G209'], ['M030', 'M218'], ['8018', 'G078'], ['8018', '6J29'], ('M030', '_P8I')]\n",
      "\n",
      "M030__O71 ['M030', '_O71']\n",
      "/home/bschroed/Documents/code/restraintmaker/devtools/otherScripts/b_ATB_solvationFreeEnergies/sets/pairwise/M030__O71/M030__O71.cnf\n",
      "gromosPP.frameout: command:\n",
      "/home/bschroed/Documents/code/gromosPP/installed/bin/frameout @topo /home/bschroed/Documents/code/restraintmaker/devtools/otherScripts/b_ATB_solvationFreeEnergies/sets/pairwise/M030__O71/M030__O71.top @traj /home/bschroed/Documents/code/restraintmaker/devtools/otherScripts/b_ATB_solvationFreeEnergies/sets/pairwise/M030__O71/M030__O71.cnf @pbc v  @outformat pdb @include SOLUTE @time 0 \n",
      "STDOUT:  \n",
      "/home/bschroed/Documents/code/gromosPP/installed/bin/sim_box @topo /home/bschroed/Documents/code/restraintmaker/devtools/otherScripts/b_ATB_solvationFreeEnergies/sets/pairwise/M030__O71/M030__O71.top @pos /home/bschroed/Documents/code/restraintmaker/devtools/otherScripts/b_ATB_solvationFreeEnergies/sets/pairwise/M030__O71/M030__O71.cnf @solvent /home/bschroed/Documents/code/restraintmaker/restraintmaker/submodules/pygromos/pygromos/data/solvents/spc.cnf  @boxsize  > /home/bschroed/Documents/code/restraintmaker/devtools/otherScripts/b_ATB_solvationFreeEnergies/sets/pairwise/M030__O71/M030__O71_spc.cnf \n",
      "\n",
      "{'M030': {1: 12}, '_O71': {2: 16}, 'SOLV': 4548}\n",
      "[12, 16, 4548]\n",
      "/home/bschroed/Documents/code/gromosXX/installed/bin/md @topo /home/bschroed/Documents/code/restraintmaker/devtools/otherScripts/b_ATB_solvationFreeEnergies/sets/pairwise/M030__O71/M030__O71.top @conf /home/bschroed/Documents/code/restraintmaker/devtools/otherScripts/b_ATB_solvationFreeEnergies/sets/pairwise/M030__O71/M030__O71_spc.cnf @input /home/bschroed/Documents/code/restraintmaker/devtools/otherScripts/b_ATB_solvationFreeEnergies/sets/pairwise/M030__O71/solv_emin/M030__O71_emin.imd @pttopo /home/bschroed/Documents/code/restraintmaker/devtools/otherScripts/b_ATB_solvationFreeEnergies/sets/pairwise/M030__O71/M030__O71.ptp @posresspec /home/bschroed/Documents/code/restraintmaker/devtools/otherScripts/b_ATB_solvationFreeEnergies/sets/pairwise/M030__O71/solv_emin/M030__O71_emin.por @refpos /home/bschroed/Documents/code/restraintmaker/devtools/otherScripts/b_ATB_solvationFreeEnergies/sets/pairwise/M030__O71/solv_emin/M030__O71_emin.rpf @fin /home/bschroed/Documents/code/restraintmaker/devtools/otherScripts/b_ATB_solvationFreeEnergies/sets/pairwise/M030__O71/solv_emin/M030__O71_emin.cnf @trc /home/bschroed/Documents/code/restraintmaker/devtools/otherScripts/b_ATB_solvationFreeEnergies/sets/pairwise/M030__O71/solv_emin/M030__O71_emin.trc @tre /home/bschroed/Documents/code/restraintmaker/devtools/otherScripts/b_ATB_solvationFreeEnergies/sets/pairwise/M030__O71/solv_emin/M030__O71_emin.tre > /home/bschroed/Documents/code/restraintmaker/devtools/otherScripts/b_ATB_solvationFreeEnergies/sets/pairwise/M030__O71/solv_emin/M030__O71_emin.omd\n",
      "\n",
      "M030_F313 ['M030', 'F313']\n",
      "/home/bschroed/Documents/code/restraintmaker/devtools/otherScripts/b_ATB_solvationFreeEnergies/sets/pairwise/M030_F313/M030_F313.cnf\n",
      "gromosPP.frameout: command:\n",
      "/home/bschroed/Documents/code/gromosPP/installed/bin/frameout @topo /home/bschroed/Documents/code/restraintmaker/devtools/otherScripts/b_ATB_solvationFreeEnergies/sets/pairwise/M030_F313/M030_F313.top @traj /home/bschroed/Documents/code/restraintmaker/devtools/otherScripts/b_ATB_solvationFreeEnergies/sets/pairwise/M030_F313/M030_F313.cnf @pbc v  @outformat pdb @include SOLUTE @time 0 \n",
      "STDOUT:  \n",
      "/home/bschroed/Documents/code/gromosPP/installed/bin/sim_box @topo /home/bschroed/Documents/code/restraintmaker/devtools/otherScripts/b_ATB_solvationFreeEnergies/sets/pairwise/M030_F313/M030_F313.top @pos /home/bschroed/Documents/code/restraintmaker/devtools/otherScripts/b_ATB_solvationFreeEnergies/sets/pairwise/M030_F313/M030_F313.cnf @solvent /home/bschroed/Documents/code/restraintmaker/restraintmaker/submodules/pygromos/pygromos/data/solvents/spc.cnf  @boxsize  > /home/bschroed/Documents/code/restraintmaker/devtools/otherScripts/b_ATB_solvationFreeEnergies/sets/pairwise/M030_F313/M030_F313_spc.cnf \n",
      "\n",
      "{'M030': {1: 12}, 'F313': {2: 15}, 'SOLV': 4614}\n",
      "[12, 15, 4614]\n",
      "/home/bschroed/Documents/code/gromosXX/installed/bin/md @topo /home/bschroed/Documents/code/restraintmaker/devtools/otherScripts/b_ATB_solvationFreeEnergies/sets/pairwise/M030_F313/M030_F313.top @conf /home/bschroed/Documents/code/restraintmaker/devtools/otherScripts/b_ATB_solvationFreeEnergies/sets/pairwise/M030_F313/M030_F313_spc.cnf @input /home/bschroed/Documents/code/restraintmaker/devtools/otherScripts/b_ATB_solvationFreeEnergies/sets/pairwise/M030_F313/solv_emin/M030_F313_emin.imd @pttopo /home/bschroed/Documents/code/restraintmaker/devtools/otherScripts/b_ATB_solvationFreeEnergies/sets/pairwise/M030_F313/M030_F313.ptp @posresspec /home/bschroed/Documents/code/restraintmaker/devtools/otherScripts/b_ATB_solvationFreeEnergies/sets/pairwise/M030_F313/solv_emin/M030_F313_emin.por @refpos /home/bschroed/Documents/code/restraintmaker/devtools/otherScripts/b_ATB_solvationFreeEnergies/sets/pairwise/M030_F313/solv_emin/M030_F313_emin.rpf @fin /home/bschroed/Documents/code/restraintmaker/devtools/otherScripts/b_ATB_solvationFreeEnergies/sets/pairwise/M030_F313/solv_emin/M030_F313_emin.cnf @trc /home/bschroed/Documents/code/restraintmaker/devtools/otherScripts/b_ATB_solvationFreeEnergies/sets/pairwise/M030_F313/solv_emin/M030_F313_emin.trc @tre /home/bschroed/Documents/code/restraintmaker/devtools/otherScripts/b_ATB_solvationFreeEnergies/sets/pairwise/M030_F313/solv_emin/M030_F313_emin.tre > /home/bschroed/Documents/code/restraintmaker/devtools/otherScripts/b_ATB_solvationFreeEnergies/sets/pairwise/M030_F313/solv_emin/M030_F313_emin.omd\n",
      "\n",
      "M030_G277 ['M030', 'G277']\n",
      "/home/bschroed/Documents/code/restraintmaker/devtools/otherScripts/b_ATB_solvationFreeEnergies/sets/pairwise/M030_G277/M030_G277.cnf\n",
      "gromosPP.frameout: command:\n",
      "/home/bschroed/Documents/code/gromosPP/installed/bin/frameout @topo /home/bschroed/Documents/code/restraintmaker/devtools/otherScripts/b_ATB_solvationFreeEnergies/sets/pairwise/M030_G277/M030_G277.top @traj /home/bschroed/Documents/code/restraintmaker/devtools/otherScripts/b_ATB_solvationFreeEnergies/sets/pairwise/M030_G277/M030_G277.cnf @pbc v  @outformat pdb @include SOLUTE @time 0 \n",
      "STDOUT:  \n",
      "/home/bschroed/Documents/code/gromosPP/installed/bin/sim_box @topo /home/bschroed/Documents/code/restraintmaker/devtools/otherScripts/b_ATB_solvationFreeEnergies/sets/pairwise/M030_G277/M030_G277.top @pos /home/bschroed/Documents/code/restraintmaker/devtools/otherScripts/b_ATB_solvationFreeEnergies/sets/pairwise/M030_G277/M030_G277.cnf @solvent /home/bschroed/Documents/code/restraintmaker/restraintmaker/submodules/pygromos/pygromos/data/solvents/spc.cnf  @boxsize  > /home/bschroed/Documents/code/restraintmaker/devtools/otherScripts/b_ATB_solvationFreeEnergies/sets/pairwise/M030_G277/M030_G277_spc.cnf \n",
      "\n",
      "{'M030': {1: 12}, 'G277': {2: 12}, 'SOLV': 4560}\n",
      "[12, 12, 4560]\n",
      "/home/bschroed/Documents/code/gromosXX/installed/bin/md @topo /home/bschroed/Documents/code/restraintmaker/devtools/otherScripts/b_ATB_solvationFreeEnergies/sets/pairwise/M030_G277/M030_G277.top @conf /home/bschroed/Documents/code/restraintmaker/devtools/otherScripts/b_ATB_solvationFreeEnergies/sets/pairwise/M030_G277/M030_G277_spc.cnf @input /home/bschroed/Documents/code/restraintmaker/devtools/otherScripts/b_ATB_solvationFreeEnergies/sets/pairwise/M030_G277/solv_emin/M030_G277_emin.imd @pttopo /home/bschroed/Documents/code/restraintmaker/devtools/otherScripts/b_ATB_solvationFreeEnergies/sets/pairwise/M030_G277/M030_G277.ptp @posresspec /home/bschroed/Documents/code/restraintmaker/devtools/otherScripts/b_ATB_solvationFreeEnergies/sets/pairwise/M030_G277/solv_emin/M030_G277_emin.por @refpos /home/bschroed/Documents/code/restraintmaker/devtools/otherScripts/b_ATB_solvationFreeEnergies/sets/pairwise/M030_G277/solv_emin/M030_G277_emin.rpf @fin /home/bschroed/Documents/code/restraintmaker/devtools/otherScripts/b_ATB_solvationFreeEnergies/sets/pairwise/M030_G277/solv_emin/M030_G277_emin.cnf @trc /home/bschroed/Documents/code/restraintmaker/devtools/otherScripts/b_ATB_solvationFreeEnergies/sets/pairwise/M030_G277/solv_emin/M030_G277_emin.trc @tre /home/bschroed/Documents/code/restraintmaker/devtools/otherScripts/b_ATB_solvationFreeEnergies/sets/pairwise/M030_G277/solv_emin/M030_G277_emin.tre > /home/bschroed/Documents/code/restraintmaker/devtools/otherScripts/b_ATB_solvationFreeEnergies/sets/pairwise/M030_G277/solv_emin/M030_G277_emin.omd\n",
      "\n",
      "M030_E1VB ['M030', 'E1VB']\n",
      "/home/bschroed/Documents/code/restraintmaker/devtools/otherScripts/b_ATB_solvationFreeEnergies/sets/pairwise/M030_E1VB/M030_E1VB.cnf\n",
      "gromosPP.frameout: command:\n",
      "/home/bschroed/Documents/code/gromosPP/installed/bin/frameout @topo /home/bschroed/Documents/code/restraintmaker/devtools/otherScripts/b_ATB_solvationFreeEnergies/sets/pairwise/M030_E1VB/M030_E1VB.top @traj /home/bschroed/Documents/code/restraintmaker/devtools/otherScripts/b_ATB_solvationFreeEnergies/sets/pairwise/M030_E1VB/M030_E1VB.cnf @pbc v  @outformat pdb @include SOLUTE @time 0 \n",
      "STDOUT:  \n",
      "/home/bschroed/Documents/code/gromosPP/installed/bin/sim_box @topo /home/bschroed/Documents/code/restraintmaker/devtools/otherScripts/b_ATB_solvationFreeEnergies/sets/pairwise/M030_E1VB/M030_E1VB.top @pos /home/bschroed/Documents/code/restraintmaker/devtools/otherScripts/b_ATB_solvationFreeEnergies/sets/pairwise/M030_E1VB/M030_E1VB.cnf @solvent /home/bschroed/Documents/code/restraintmaker/restraintmaker/submodules/pygromos/pygromos/data/solvents/spc.cnf  @boxsize  > /home/bschroed/Documents/code/restraintmaker/devtools/otherScripts/b_ATB_solvationFreeEnergies/sets/pairwise/M030_E1VB/M030_E1VB_spc.cnf \n",
      "\n",
      "{'M030': {1: 12}, 'E1VB': {2: 19}, 'SOLV': 4545}\n",
      "[12, 19, 4545]\n",
      "/home/bschroed/Documents/code/gromosXX/installed/bin/md @topo /home/bschroed/Documents/code/restraintmaker/devtools/otherScripts/b_ATB_solvationFreeEnergies/sets/pairwise/M030_E1VB/M030_E1VB.top @conf /home/bschroed/Documents/code/restraintmaker/devtools/otherScripts/b_ATB_solvationFreeEnergies/sets/pairwise/M030_E1VB/M030_E1VB_spc.cnf @input /home/bschroed/Documents/code/restraintmaker/devtools/otherScripts/b_ATB_solvationFreeEnergies/sets/pairwise/M030_E1VB/solv_emin/M030_E1VB_emin.imd @pttopo /home/bschroed/Documents/code/restraintmaker/devtools/otherScripts/b_ATB_solvationFreeEnergies/sets/pairwise/M030_E1VB/M030_E1VB.ptp @posresspec /home/bschroed/Documents/code/restraintmaker/devtools/otherScripts/b_ATB_solvationFreeEnergies/sets/pairwise/M030_E1VB/solv_emin/M030_E1VB_emin.por @refpos /home/bschroed/Documents/code/restraintmaker/devtools/otherScripts/b_ATB_solvationFreeEnergies/sets/pairwise/M030_E1VB/solv_emin/M030_E1VB_emin.rpf @fin /home/bschroed/Documents/code/restraintmaker/devtools/otherScripts/b_ATB_solvationFreeEnergies/sets/pairwise/M030_E1VB/solv_emin/M030_E1VB_emin.cnf @trc /home/bschroed/Documents/code/restraintmaker/devtools/otherScripts/b_ATB_solvationFreeEnergies/sets/pairwise/M030_E1VB/solv_emin/M030_E1VB_emin.trc @tre /home/bschroed/Documents/code/restraintmaker/devtools/otherScripts/b_ATB_solvationFreeEnergies/sets/pairwise/M030_E1VB/solv_emin/M030_E1VB_emin.tre > /home/bschroed/Documents/code/restraintmaker/devtools/otherScripts/b_ATB_solvationFreeEnergies/sets/pairwise/M030_E1VB/solv_emin/M030_E1VB_emin.omd\n",
      "\n",
      "6J29_G078 ['6J29', 'G078']\n",
      "/home/bschroed/Documents/code/restraintmaker/devtools/otherScripts/b_ATB_solvationFreeEnergies/sets/pairwise/6J29_G078/6J29_G078.cnf\n",
      "gromosPP.frameout: command:\n",
      "/home/bschroed/Documents/code/gromosPP/installed/bin/frameout @topo /home/bschroed/Documents/code/restraintmaker/devtools/otherScripts/b_ATB_solvationFreeEnergies/sets/pairwise/6J29_G078/6J29_G078.top @traj /home/bschroed/Documents/code/restraintmaker/devtools/otherScripts/b_ATB_solvationFreeEnergies/sets/pairwise/6J29_G078/6J29_G078.cnf @pbc v  @outformat pdb @include SOLUTE @time 0 \n",
      "STDOUT:  \n",
      "/home/bschroed/Documents/code/gromosPP/installed/bin/sim_box @topo /home/bschroed/Documents/code/restraintmaker/devtools/otherScripts/b_ATB_solvationFreeEnergies/sets/pairwise/6J29_G078/6J29_G078.top @pos /home/bschroed/Documents/code/restraintmaker/devtools/otherScripts/b_ATB_solvationFreeEnergies/sets/pairwise/6J29_G078/6J29_G078.cnf @solvent /home/bschroed/Documents/code/restraintmaker/restraintmaker/submodules/pygromos/pygromos/data/solvents/spc.cnf  @boxsize  > /home/bschroed/Documents/code/restraintmaker/devtools/otherScripts/b_ATB_solvationFreeEnergies/sets/pairwise/6J29_G078/6J29_G078_spc.cnf \n",
      "\n",
      "{'6J29': {1: 27}, 'G078': {2: 18}, 'SOLV': 4548}\n",
      "[27, 18, 4548]\n",
      "/home/bschroed/Documents/code/gromosXX/installed/bin/md @topo /home/bschroed/Documents/code/restraintmaker/devtools/otherScripts/b_ATB_solvationFreeEnergies/sets/pairwise/6J29_G078/6J29_G078.top @conf /home/bschroed/Documents/code/restraintmaker/devtools/otherScripts/b_ATB_solvationFreeEnergies/sets/pairwise/6J29_G078/6J29_G078_spc.cnf @input /home/bschroed/Documents/code/restraintmaker/devtools/otherScripts/b_ATB_solvationFreeEnergies/sets/pairwise/6J29_G078/solv_emin/6J29_G078_emin.imd @pttopo /home/bschroed/Documents/code/restraintmaker/devtools/otherScripts/b_ATB_solvationFreeEnergies/sets/pairwise/6J29_G078/6J29_G078.ptp @posresspec /home/bschroed/Documents/code/restraintmaker/devtools/otherScripts/b_ATB_solvationFreeEnergies/sets/pairwise/6J29_G078/solv_emin/6J29_G078_emin.por @refpos /home/bschroed/Documents/code/restraintmaker/devtools/otherScripts/b_ATB_solvationFreeEnergies/sets/pairwise/6J29_G078/solv_emin/6J29_G078_emin.rpf @fin /home/bschroed/Documents/code/restraintmaker/devtools/otherScripts/b_ATB_solvationFreeEnergies/sets/pairwise/6J29_G078/solv_emin/6J29_G078_emin.cnf @trc /home/bschroed/Documents/code/restraintmaker/devtools/otherScripts/b_ATB_solvationFreeEnergies/sets/pairwise/6J29_G078/solv_emin/6J29_G078_emin.trc @tre /home/bschroed/Documents/code/restraintmaker/devtools/otherScripts/b_ATB_solvationFreeEnergies/sets/pairwise/6J29_G078/solv_emin/6J29_G078_emin.tre > /home/bschroed/Documents/code/restraintmaker/devtools/otherScripts/b_ATB_solvationFreeEnergies/sets/pairwise/6J29_G078/solv_emin/6J29_G078_emin.omd\n",
      "\n",
      "M030_M097 ['M030', 'M097']\n",
      "/home/bschroed/Documents/code/restraintmaker/devtools/otherScripts/b_ATB_solvationFreeEnergies/sets/pairwise/M030_M097/M030_M097.cnf\n",
      "gromosPP.frameout: command:\n",
      "/home/bschroed/Documents/code/gromosPP/installed/bin/frameout @topo /home/bschroed/Documents/code/restraintmaker/devtools/otherScripts/b_ATB_solvationFreeEnergies/sets/pairwise/M030_M097/M030_M097.top @traj /home/bschroed/Documents/code/restraintmaker/devtools/otherScripts/b_ATB_solvationFreeEnergies/sets/pairwise/M030_M097/M030_M097.cnf @pbc v  @outformat pdb @include SOLUTE @time 0 \n",
      "STDOUT:  \n"
     ]
    },
    {
     "ename": "OSError",
     "evalue": "Could not find file: /home/bschroed/Documents/code/restraintmaker/devtools/otherScripts/b_ATB_solvationFreeEnergies/sets/FRAME_00001.pdb",
     "output_type": "error",
     "traceback": [
      "\u001B[0;31m---------------------------------------------------------------------------\u001B[0m",
      "\u001B[0;31mOSError\u001B[0m                                   Traceback (most recent call last)",
      "\u001B[0;32m<ipython-input-4-a58a2ba35a22>\u001B[0m in \u001B[0;36m<module>\u001B[0;34m\u001B[0m\n\u001B[1;32m     40\u001B[0m     \u001B[0mprint\u001B[0m\u001B[0;34m(\u001B[0m\u001B[0mout_cnf_path\u001B[0m\u001B[0;34m)\u001B[0m\u001B[0;34m\u001B[0m\u001B[0;34m\u001B[0m\u001B[0m\n\u001B[1;32m     41\u001B[0m     \u001B[0mtime\u001B[0m\u001B[0;34m.\u001B[0m\u001B[0msleep\u001B[0m\u001B[0;34m(\u001B[0m\u001B[0;36m3\u001B[0m\u001B[0;34m)\u001B[0m\u001B[0;34m\u001B[0m\u001B[0;34m\u001B[0m\u001B[0m\n\u001B[0;32m---> 42\u001B[0;31m     gromPP.frameout(in_top_path=out_top_path, in_coord_path=out_cnf_path, periodic_boundary_condition=\"v\",\n\u001B[0m\u001B[1;32m     43\u001B[0m                 out_file_path=out_prefix_path+\"_box.pdb\", out_file_format=\"pdb\", time=0, verbose=True)\n\u001B[1;32m     44\u001B[0m \u001B[0;34m\u001B[0m\u001B[0m\n",
      "\u001B[0;32m~/Documents/code/restraintmaker/restraintmaker/submodules/pygromos/pygromos/gromos/gromosPP.py\u001B[0m in \u001B[0;36mframeout\u001B[0;34m(self, in_top_path, in_coord_path, periodic_boundary_condition, out_file_path, out_file_format, single_file, gather, include, reference_structure_path, atomsfit, frames, time, dt, notimeblock, _binary_name, verbose)\u001B[0m\n\u001B[1;32m    359\u001B[0m \u001B[0;34m\u001B[0m\u001B[0m\n\u001B[1;32m    360\u001B[0m \u001B[0;34m\u001B[0m\u001B[0m\n\u001B[0;32m--> 361\u001B[0;31m         \u001B[0mbash\u001B[0m\u001B[0;34m.\u001B[0m\u001B[0mwait_for_fileSystem\u001B[0m\u001B[0;34m(\u001B[0m\u001B[0mcheck_paths\u001B[0m\u001B[0;34m=\u001B[0m\u001B[0morig\u001B[0m\u001B[0;34m,\u001B[0m \u001B[0mregex_mode\u001B[0m\u001B[0;34m=\u001B[0m\u001B[0;32mTrue\u001B[0m\u001B[0;34m)\u001B[0m\u001B[0;34m\u001B[0m\u001B[0;34m\u001B[0m\u001B[0m\n\u001B[0m\u001B[1;32m    362\u001B[0m \u001B[0;34m\u001B[0m\u001B[0m\n\u001B[1;32m    363\u001B[0m \u001B[0;34m\u001B[0m\u001B[0m\n",
      "\u001B[0;32m~/Documents/code/restraintmaker/restraintmaker/submodules/pygromos/pygromos/utils/bash.py\u001B[0m in \u001B[0;36mwait_for_fileSystem\u001B[0;34m(check_paths, regex_mode, max_waiting_iterations, verbose)\u001B[0m\n\u001B[1;32m     47\u001B[0m             \u001B[0mit\u001B[0m \u001B[0;34m+=\u001B[0m \u001B[0;36m1\u001B[0m\u001B[0;34m\u001B[0m\u001B[0;34m\u001B[0m\u001B[0m\n\u001B[1;32m     48\u001B[0m         \u001B[0;32mif\u001B[0m \u001B[0;34m(\u001B[0m\u001B[0mwaiting\u001B[0m\u001B[0;34m)\u001B[0m\u001B[0;34m:\u001B[0m\u001B[0;34m\u001B[0m\u001B[0;34m\u001B[0m\u001B[0m\n\u001B[0;32m---> 49\u001B[0;31m             \u001B[0;32mraise\u001B[0m \u001B[0mIOError\u001B[0m\u001B[0;34m(\u001B[0m\u001B[0;34m\"Could not find file: \"\u001B[0m \u001B[0;34m+\u001B[0m \u001B[0mcheck_path\u001B[0m\u001B[0;34m)\u001B[0m\u001B[0;34m\u001B[0m\u001B[0;34m\u001B[0m\u001B[0m\n\u001B[0m\u001B[1;32m     50\u001B[0m         \u001B[0;32melif\u001B[0m \u001B[0;34m(\u001B[0m\u001B[0mverbose\u001B[0m\u001B[0;34m)\u001B[0m\u001B[0;34m:\u001B[0m\u001B[0;34m\u001B[0m\u001B[0;34m\u001B[0m\u001B[0m\n\u001B[1;32m     51\u001B[0m             \u001B[0mprint\u001B[0m\u001B[0;34m(\u001B[0m\u001B[0;34m\"File Check FOUND: \\t\"\u001B[0m\u001B[0;34m,\u001B[0m \u001B[0mcheck_path\u001B[0m\u001B[0;34m)\u001B[0m\u001B[0;34m\u001B[0m\u001B[0;34m\u001B[0m\u001B[0m\n",
      "\u001B[0;31mOSError\u001B[0m: Could not find file: /home/bschroed/Documents/code/restraintmaker/devtools/otherScripts/b_ATB_solvationFreeEnergies/sets/FRAME_00001.pdb"
     ]
    }
   ],
   "source": [
    "import utils_test_set_ATB as utils\n",
    "all_states = utils.multistate_ligand_sets[\"all\"]\n",
    "all_combos = [x for x in os.listdir(pairwise_dir) if(os.path.isdir(pairwise_dir+\"/\"+x))]\n",
    "\n",
    "all_combos = [x if(len(x)==2) else (x[0], \"_\"+x[2]) for x in list(map(lambda x: x.split(\"_\"), all_combos))]\n",
    "print(all_combos)\n",
    "print()\n",
    "\n",
    "for state_a, state_b in all_combos:\n",
    "    system_tops = [state_all_tops[x] for x in [state_a, state_b]]\n",
    "\n",
    "    name = state_a+\"_\"+state_b\n",
    "    out_dir = pairwise_dir+\"/\"+name\n",
    "    out_prefix_path = out_dir+\"/\"+name\n",
    "    print(name, [state_a, state_b])\n",
    "\n",
    "\n",
    "    #build dualTop system\n",
    "    out_top_path, out_ptp_path = gromPP.prep_eds(in_top_paths=system_tops, number_of_eds_states=len(system_tops), out_file_path=out_prefix_path)\n",
    "\n",
    "    #generate cnf\n",
    "    in_pdb = glob.glob(out_dir+\"/*.pdb\")[0]\n",
    "    out_cnf_path = gromPP.pdb2gromos(in_pdb_path=in_pdb, in_top_path=out_top_path, in_lib_path=resn_lib_path,\n",
    "                                     out_cnf_path=out_prefix_path+\".cnf\")\n",
    "\n",
    "    ##build box\n",
    "    box_cnf = cnf.Cnf(out_cnf_path)\n",
    "    box_cnf.supress_atomPosition_singulrarities()\n",
    "    box_cnf.GENBOX = GENBOX(pbc=Pbc.rectangular,\n",
    "                            length=[3.610220118 for x in range(3)],\n",
    "                            angles=[90 for x in range(3)],\n",
    "                            euler=[0 for x in range(3)],\n",
    "                            origin=[0 for x in range(3)])\n",
    "    box_cnf.write(out_cnf_path)\n",
    "\n",
    "    #build posres/refpos\n",
    "    refpos_path,_ = box_cnf.write_refpos(out_prefix_path+\".rfp\")\n",
    "    posresspec_path,_ = box_cnf.write_possrespec(out_prefix_path+\".por\", residues=list(box_cnf.residues.keys()))\n",
    "\n",
    "    print(out_cnf_path)\n",
    "    time.sleep(3)\n",
    "    gromPP.frameout(in_top_path=out_top_path, in_coord_path=out_cnf_path, periodic_boundary_condition=\"v\",\n",
    "                out_file_path=out_prefix_path+\"_box.pdb\", out_file_format=\"pdb\", time=0, verbose=True)\n",
    "\n",
    "    #solvate\n",
    "    out_solv_cnf_path=out_prefix_path+\"_spc.cnf\"\n",
    "    gromPP.sim_box(in_top_path=out_top_path, minwall=None, in_cnf_path=out_cnf_path, in_solvent_cnf_file_path=solvents.spc,\n",
    "                   out_cnf_path=out_solv_cnf_path, periodic_boundary_condition=None, gathering_method=None,  boxsize=True)\n",
    "    time.sleep(2)\n",
    "\n",
    "    gromPP.frameout(in_top_path=out_top_path, in_coord_path=out_solv_cnf_path, periodic_boundary_condition=\"r cog\",\n",
    "                    out_file_path=out_prefix_path+\"_solv.pdb\", include=\"all\", out_file_format=\"pdb\", time=0)\n",
    "\n",
    "\n",
    "    # Emin solv\n",
    "\n",
    "    emin_dir = out_dir+\"/solv_emin\"\n",
    "    emin_outprefix = emin_dir+\"/\"+os.path.basename(out_dir)+\"_emin\"\n",
    "\n",
    "    if(not os.path.exists(emin_dir)):\n",
    "        os.mkdir(emin_dir)\n",
    "\n",
    "    cnf_file = cnf.Cnf(out_solv_cnf_path)\n",
    "    residues = cnf_file.get_residues()\n",
    "    print(residues)\n",
    "    import numpy as np\n",
    "    t = list(map(lambda x: np.sum(list(x.values())) if(type(x) is dict) else x, residues.values()))\n",
    "    print(t)\n",
    "    all_atoms = np.sum(t)\n",
    "    del residues[\"SOLV\"]\n",
    "    all_lig_atoms =np.sum(list(map(lambda x: np.sum(list(x.values())), residues.values())))\n",
    "    in_por_path,_ = cnf_file.write_possrespec( out_path=emin_outprefix+\".por\", residues=list(residues.keys()))\n",
    "    in_rpf_path,_ = cnf_file.write_refpos(emin_outprefix+\".rpf\")\n",
    "\n",
    "    in_imd_path = emin_outprefix+\".imd\"\n",
    "    imd_file = imd.Imd(emin_imd)\n",
    "\n",
    "    imd_file.SYSTEM.NSM = (all_atoms - all_lig_atoms)//3\n",
    "\n",
    "    pertubation_block  = imd_blocks.PERTURBATION(NTG=1, NRDGL=0,RLAM=0, DLAMT=0, ALPHLJ=0, ALPHC=0, NLAM=1, NSCALE=0)\n",
    "    imd_file.add_block(block=pertubation_block)\n",
    "    #imd_file.EDS = imd_blocks.EDS(NUMSTATES=2,S=1, EIR=[0 for x in range(2)])\n",
    "    #multibath_block = imd_blocks.MULTIBATH(ALGORITHM=1, NBATHS=2, TEMP0=[298,298],\n",
    "    #                                       TAU=[0.1,0.1], DOFSET=2,\n",
    "    #                                       LAST=[all_lig_atoms, all_atoms], COMBATH=[1,2], IRBATH=[1,2])\n",
    "    #imd_file.MULTIBATH = multibath_block\n",
    "\n",
    "    imd_file.write(in_imd_path)\n",
    "\n",
    "    gromXX.md_run(in_topo_path=out_top_path, in_imd_path=in_imd_path, in_coord_path=out_solv_cnf_path,\n",
    "                  out_prefix=emin_outprefix, in_pert_topo_path=out_ptp_path,\n",
    "                  in_refpos_path=in_rpf_path, in_posresspec_path=in_por_path)\n"
   ],
   "metadata": {
    "collapsed": false,
    "pycharm": {
     "name": "#%%\n"
    }
   }
  },
  {
   "cell_type": "code",
   "execution_count": null,
   "outputs": [],
   "source": [],
   "metadata": {
    "collapsed": false,
    "pycharm": {
     "name": "#%%\n"
    }
   }
  }
 ],
 "metadata": {
  "kernelspec": {
   "display_name": "Python 3",
   "language": "python",
   "name": "python3"
  },
  "language_info": {
   "codemirror_mode": {
    "name": "ipython",
    "version": 2
   },
   "file_extension": ".py",
   "mimetype": "text/x-python",
   "name": "python",
   "nbconvert_exporter": "python",
   "pygments_lexer": "ipython2",
   "version": "2.7.6"
  }
 },
 "nbformat": 4,
 "nbformat_minor": 0
}