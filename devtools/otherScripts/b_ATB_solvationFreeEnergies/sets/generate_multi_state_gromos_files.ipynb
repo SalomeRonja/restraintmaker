{
 "cells": [
  {
   "cell_type": "code",
   "execution_count": 1,
   "outputs": [
    {
     "name": "stderr",
     "output_type": "stream",
     "text": [
      "/home/bschroed/Documents/code/restraintmaker/restraintmaker/submodules/pygromos/pygromos/files/topology/top.py:20: UserWarning: Module topo-files is under Development and not entirely implemented!\n",
      "  warnings.warn(\"Module topo-files is under Development and not entirely implemented!\")\n"
     ]
    }
   ],
   "source": [
    "import os, sys, glob\n",
    "import time\n",
    "\n",
    "from collections import defaultdict\n",
    "from pygromos.gromos.gromosPP import GromosPP\n",
    "from pygromos.gromos.gromosXX import GromosXX\n",
    "from pygromos.files import imd\n",
    "\n",
    "import restraintmaker\n",
    "\n",
    "#CHANGE HERE\n",
    "gromos_bin_path = \"/home/bschroed/Documents/code/gromosPP/installed/bin\"\n",
    "restraintmaker_path = os.path.abspath(os.path.dirname(restraintmaker.__file__)+\"/..\")\n",
    "\n",
    "control_dict = {\n",
    "    \"gen_resn_lib\": False,\n",
    "    \"gen_single_tops\": False, #Buggy!\n",
    "    \"gen_multi_state\": True,\n",
    "    \"gen_pairwise\": True,\n",
    "}\n",
    "sets_dir = restraintmaker_path+\"/devtools/otherScripts/b_ATB_solvationFreeEnergies/sets\"\n",
    "mstate_dir = sets_dir+\"/multistate\"\n",
    "pairwise_dir = sets_dir+\"/pairwise\"\n",
    "\n",
    "resn_lib_path = sets_dir+\"/resn_lib.lib\""
   ],
   "metadata": {
    "collapsed": false,
    "pycharm": {
     "name": "#%%\n"
    }
   }
  },
  {
   "cell_type": "code",
   "execution_count": 3,
   "outputs": [
    {
     "name": "stdout",
     "output_type": "stream",
     "text": [
      "all ['_O6T', '_O71', 'G277', 'S002', 'M097', '8018', 'M030', '6KET', 'F313', '_P8I', 'M097', 'G078', 'M218', '6J29', 'G209', 'E1VB', 'TVVS', '_O70']\n",
      "/home/bschroed/Documents/code/restraintmaker/devtools/otherScripts/b_ATB_solvationFreeEnergies/sets/multistate/all_fifthteen/all_fifthteen.cnf\n",
      "/home/bschroed/Documents/code/gromosPP/installed/bin/build_box @topo /home/bschroed/Documents/code/restraintmaker/devtools/otherScripts/b_ATB_solvationFreeEnergies/sets/multistate/all_fifthteen/all_fifthteen.top @pos /home/bschroed/Documents/code/restraintmaker/devtools/otherScripts/b_ATB_solvationFreeEnergies/sets/multistate/all_fifthteen/all_fifthteen.cnf @nsm 1 @dens 1.0 > /home/bschroed/Documents/code/restraintmaker/devtools/otherScripts/b_ATB_solvationFreeEnergies/sets/multistate/all_fifthteen/all_fifthteen_box.cnf \n",
      "\n",
      "/home/bschroed/Documents/code/gromosPP/installed/bin/sim_box @topo /home/bschroed/Documents/code/restraintmaker/devtools/otherScripts/b_ATB_solvationFreeEnergies/sets/multistate/all_fifthteen/all_fifthteen.top @pos /home/bschroed/Documents/code/restraintmaker/devtools/otherScripts/b_ATB_solvationFreeEnergies/sets/multistate/all_fifthteen/all_fifthteen_box.cnf @solvent /home/bschroed/Documents/code/restraintmaker/restraintmaker/submodules/pygromos/pygromos/data/solvents/spc.cnf  @boxsize  > /home/bschroed/Documents/code/restraintmaker/devtools/otherScripts/b_ATB_solvationFreeEnergies/sets/multistate/all_fifthteen/all_fifthteen_spc.cnf \n",
      "\n",
      "many ['_O6T', '_O71', 'M097', '8018', 'M030', '6KET', 'F313', '_P8I', 'M097', 'G078', 'M218', '6J29', 'G209', 'E1VB']\n",
      "/home/bschroed/Documents/code/restraintmaker/devtools/otherScripts/b_ATB_solvationFreeEnergies/sets/multistate/many_thirteen/many_thirteen.cnf\n",
      "/home/bschroed/Documents/code/gromosPP/installed/bin/build_box @topo /home/bschroed/Documents/code/restraintmaker/devtools/otherScripts/b_ATB_solvationFreeEnergies/sets/multistate/many_thirteen/many_thirteen.top @pos /home/bschroed/Documents/code/restraintmaker/devtools/otherScripts/b_ATB_solvationFreeEnergies/sets/multistate/many_thirteen/many_thirteen.cnf @nsm 1 @dens 1.0 > /home/bschroed/Documents/code/restraintmaker/devtools/otherScripts/b_ATB_solvationFreeEnergies/sets/multistate/many_thirteen/many_thirteen_box.cnf \n",
      "\n",
      "/home/bschroed/Documents/code/gromosPP/installed/bin/sim_box @topo /home/bschroed/Documents/code/restraintmaker/devtools/otherScripts/b_ATB_solvationFreeEnergies/sets/multistate/many_thirteen/many_thirteen.top @pos /home/bschroed/Documents/code/restraintmaker/devtools/otherScripts/b_ATB_solvationFreeEnergies/sets/multistate/many_thirteen/many_thirteen_box.cnf @solvent /home/bschroed/Documents/code/restraintmaker/restraintmaker/submodules/pygromos/pygromos/data/solvents/spc.cnf  @boxsize  > /home/bschroed/Documents/code/restraintmaker/devtools/otherScripts/b_ATB_solvationFreeEnergies/sets/multistate/many_thirteen/many_thirteen_spc.cnf \n",
      "\n",
      "challenging ['_O6T', 'G277', 'S002', 'G078', 'M218']\n",
      "/home/bschroed/Documents/code/restraintmaker/devtools/otherScripts/b_ATB_solvationFreeEnergies/sets/multistate/challenging_five/challenging_five.cnf\n",
      "/home/bschroed/Documents/code/gromosPP/installed/bin/build_box @topo /home/bschroed/Documents/code/restraintmaker/devtools/otherScripts/b_ATB_solvationFreeEnergies/sets/multistate/challenging_five/challenging_five.top @pos /home/bschroed/Documents/code/restraintmaker/devtools/otherScripts/b_ATB_solvationFreeEnergies/sets/multistate/challenging_five/challenging_five.cnf @nsm 1 @dens 1.0 > /home/bschroed/Documents/code/restraintmaker/devtools/otherScripts/b_ATB_solvationFreeEnergies/sets/multistate/challenging_five/challenging_five_box.cnf \n",
      "\n",
      "/home/bschroed/Documents/code/gromosPP/installed/bin/sim_box @topo /home/bschroed/Documents/code/restraintmaker/devtools/otherScripts/b_ATB_solvationFreeEnergies/sets/multistate/challenging_five/challenging_five.top @pos /home/bschroed/Documents/code/restraintmaker/devtools/otherScripts/b_ATB_solvationFreeEnergies/sets/multistate/challenging_five/challenging_five_box.cnf @solvent /home/bschroed/Documents/code/restraintmaker/restraintmaker/submodules/pygromos/pygromos/data/solvents/spc.cnf  @boxsize  > /home/bschroed/Documents/code/restraintmaker/devtools/otherScripts/b_ATB_solvationFreeEnergies/sets/multistate/challenging_five/challenging_five_spc.cnf \n",
      "\n",
      "singles ['M097', '8018', 'M030', '6KET', 'F313', '_P8I', 'M097', '_O6T', '_O71']\n",
      "/home/bschroed/Documents/code/restraintmaker/devtools/otherScripts/b_ATB_solvationFreeEnergies/sets/multistate/singles_nine/singles_nine.cnf\n",
      "/home/bschroed/Documents/code/gromosPP/installed/bin/build_box @topo /home/bschroed/Documents/code/restraintmaker/devtools/otherScripts/b_ATB_solvationFreeEnergies/sets/multistate/singles_nine/singles_nine.top @pos /home/bschroed/Documents/code/restraintmaker/devtools/otherScripts/b_ATB_solvationFreeEnergies/sets/multistate/singles_nine/singles_nine.cnf @nsm 1 @dens 1.0 > /home/bschroed/Documents/code/restraintmaker/devtools/otherScripts/b_ATB_solvationFreeEnergies/sets/multistate/singles_nine/singles_nine_box.cnf \n",
      "\n",
      "/home/bschroed/Documents/code/gromosPP/installed/bin/sim_box @topo /home/bschroed/Documents/code/restraintmaker/devtools/otherScripts/b_ATB_solvationFreeEnergies/sets/multistate/singles_nine/singles_nine.top @pos /home/bschroed/Documents/code/restraintmaker/devtools/otherScripts/b_ATB_solvationFreeEnergies/sets/multistate/singles_nine/singles_nine_box.cnf @solvent /home/bschroed/Documents/code/restraintmaker/restraintmaker/submodules/pygromos/pygromos/data/solvents/spc.cnf  @boxsize  > /home/bschroed/Documents/code/restraintmaker/devtools/otherScripts/b_ATB_solvationFreeEnergies/sets/multistate/singles_nine/singles_nine_spc.cnf \n",
      "\n",
      "flat ['_O6T', '_O71', 'S002', 'M097', '8018', '6KET', 'F313', '_P8I', 'M097', 'G078']\n",
      "/home/bschroed/Documents/code/restraintmaker/devtools/otherScripts/b_ATB_solvationFreeEnergies/sets/multistate/flat_ten/flat_ten.cnf\n",
      "/home/bschroed/Documents/code/gromosPP/installed/bin/build_box @topo /home/bschroed/Documents/code/restraintmaker/devtools/otherScripts/b_ATB_solvationFreeEnergies/sets/multistate/flat_ten/flat_ten.top @pos /home/bschroed/Documents/code/restraintmaker/devtools/otherScripts/b_ATB_solvationFreeEnergies/sets/multistate/flat_ten/flat_ten.cnf @nsm 1 @dens 1.0 > /home/bschroed/Documents/code/restraintmaker/devtools/otherScripts/b_ATB_solvationFreeEnergies/sets/multistate/flat_ten/flat_ten_box.cnf \n",
      "\n",
      "/home/bschroed/Documents/code/gromosPP/installed/bin/sim_box @topo /home/bschroed/Documents/code/restraintmaker/devtools/otherScripts/b_ATB_solvationFreeEnergies/sets/multistate/flat_ten/flat_ten.top @pos /home/bschroed/Documents/code/restraintmaker/devtools/otherScripts/b_ATB_solvationFreeEnergies/sets/multistate/flat_ten/flat_ten_box.cnf @solvent /home/bschroed/Documents/code/restraintmaker/restraintmaker/submodules/pygromos/pygromos/data/solvents/spc.cnf  @boxsize  > /home/bschroed/Documents/code/restraintmaker/devtools/otherScripts/b_ATB_solvationFreeEnergies/sets/multistate/flat_ten/flat_ten_spc.cnf \n",
      "\n",
      "easy ['_O6T', '_O71', 'M097', '6KET', 'F313']\n",
      "/home/bschroed/Documents/code/restraintmaker/devtools/otherScripts/b_ATB_solvationFreeEnergies/sets/multistate/easy_five/easy_five.cnf\n",
      "/home/bschroed/Documents/code/gromosPP/installed/bin/build_box @topo /home/bschroed/Documents/code/restraintmaker/devtools/otherScripts/b_ATB_solvationFreeEnergies/sets/multistate/easy_five/easy_five.top @pos /home/bschroed/Documents/code/restraintmaker/devtools/otherScripts/b_ATB_solvationFreeEnergies/sets/multistate/easy_five/easy_five.cnf @nsm 1 @dens 1.0 > /home/bschroed/Documents/code/restraintmaker/devtools/otherScripts/b_ATB_solvationFreeEnergies/sets/multistate/easy_five/easy_five_box.cnf \n",
      "\n",
      "/home/bschroed/Documents/code/gromosPP/installed/bin/sim_box @topo /home/bschroed/Documents/code/restraintmaker/devtools/otherScripts/b_ATB_solvationFreeEnergies/sets/multistate/easy_five/easy_five.top @pos /home/bschroed/Documents/code/restraintmaker/devtools/otherScripts/b_ATB_solvationFreeEnergies/sets/multistate/easy_five/easy_five_box.cnf @solvent /home/bschroed/Documents/code/restraintmaker/restraintmaker/submodules/pygromos/pygromos/data/solvents/spc.cnf  @boxsize  > /home/bschroed/Documents/code/restraintmaker/devtools/otherScripts/b_ATB_solvationFreeEnergies/sets/multistate/easy_five/easy_five_spc.cnf \n",
      "\n"
     ]
    }
   ],
   "source": [
    "gromPP = GromosPP(gromos_bin_path)\n",
    "atb_dirs = restraintmaker_path+\"/devtools/otherScripts/b_ATB_solvationFreeEnergies/ATB_molecules\"\n",
    "\n",
    "sets_dir = restraintmaker_path+\"/devtools/otherScripts/b_ATB_solvationFreeEnergies/sets\"\n",
    "mstate_dir = sets_dir+\"/multistate\"\n",
    "pairwise_dir = sets_dir+\"/pairwise\"\n",
    "\n",
    "if(not os.path.exists(mstate_dir)):\n",
    "    os.mkdir(mstate_dir)\n",
    "\n",
    "if (not os.path.exists(pairwise_dir)):\n",
    "    os.mkdir(pairwise_dir)\n",
    "\n",
    "sys.path.append(atb_dirs+\"/..\")\n",
    "import utils_test_set_ATB as util\n",
    "\n",
    "\n",
    "#Systems\n",
    "##get all_single file_tops:\n",
    "all_tops = glob.glob(atb_dirs+\"/*/*top\")\n",
    "state_all_tops={os.path.basename(value).split(\".\")[0]: value for value in all_tops}\n",
    "all_mstate_sys = glob.glob(mstate_dir+\"/*\")\n",
    "\n",
    "##multi_state different_sets\n",
    "import utils_test_set_ATB as utils\n",
    "\n",
    "for name,state_set in utils.multistate_ligand_sets.items():\n",
    "    print(name, state_set)\n",
    "    system_tops = [state_all_tops[x] for x in state_set]\n",
    "\n",
    "    #build eds system\n",
    "    out_dir = list(filter(lambda x: name+\"_\" in x, all_mstate_sys))[0]\n",
    "    out_prefix_path = out_dir+\"/\"+os.path.basename(out_dir)\n",
    "    out_top_path, out_ptp_path = gromPP.prep_eds(in_top_paths=system_tops, number_of_eds_states=len(system_tops), out_file_path=out_prefix_path)\n",
    "\n",
    "    #generate cnf\n",
    "    in_pdb = glob.glob(out_dir+\"/*.pdb\")[0]\n",
    "    out_cnf_path = gromPP.pdb2gromos(in_pdb_path=in_pdb, in_top_path=out_top_path, in_lib_path=resn_lib_path,\n",
    "                                     out_cnf_path=out_prefix_path+\".cnf\")\n",
    "    print(out_cnf_path)\n",
    "\n",
    "    #build posres/refpos\n",
    "    from pygromos.files.coord import cnf\n",
    "    cnf_file = cnf.Cnf(out_cnf_path)\n",
    "    cnf_file.supress_atomPosition_singulrarities()\n",
    "    cnf_file.write_refpos(out_prefix_path+\".rfp\")\n",
    "    cnf_file.write_possrespec(out_prefix_path+\".por\", residues=list(cnf_file.residues.keys()))\n",
    "    cnf_file.write(out_cnf_path)\n",
    "\n",
    "    #generate_solvatisation\n",
    "    from pygromos.data import solvents\n",
    "    out_box_cnf_path=out_prefix_path+\"_box.cnf\"\n",
    "    out_solv_cnf_path=out_prefix_path+\"_spc.cnf\"\n",
    "\n",
    "    gromPP.build_box(in_top_path=out_top_path, in_cnf_path=out_cnf_path, out_cnf_path=out_box_cnf_path)\n",
    "\n",
    "    time.sleep(2)\n",
    "    box_cnf = cnf.Cnf(out_box_cnf_path)\n",
    "    box_cnf.GENBOX.length = [3.610220118 for x in range(3)]\n",
    "    box_cnf.write(out_box_cnf_path)\n",
    "    time.sleep(2)\n",
    "\n",
    "    gromPP.sim_box(in_top_path=out_top_path, minwall=None, in_cnf_path=out_box_cnf_path, in_solvent_cnf_file_path=solvents.spc,\n",
    "                   out_cnf_path=out_solv_cnf_path, periodic_boundary_condition=None, gathering_method=None,  boxsize=True)\n",
    "    time.sleep(2)\n",
    "\n",
    "    os.remove(out_box_cnf_path)"
   ],
   "metadata": {
    "collapsed": false,
    "pycharm": {
     "name": "#%%\n"
    }
   }
  },
  {
   "cell_type": "code",
   "execution_count": null,
   "outputs": [],
   "source": [],
   "metadata": {
    "collapsed": false,
    "pycharm": {
     "name": "#%%\n"
    }
   }
  }
 ],
 "metadata": {
  "kernelspec": {
   "display_name": "Python 3",
   "language": "python",
   "name": "python3"
  },
  "language_info": {
   "codemirror_mode": {
    "name": "ipython",
    "version": 2
   },
   "file_extension": ".py",
   "mimetype": "text/x-python",
   "name": "python",
   "nbconvert_exporter": "python",
   "pygments_lexer": "ipython2",
   "version": "2.7.6"
  }
 },
 "nbformat": 4,
 "nbformat_minor": 0
}