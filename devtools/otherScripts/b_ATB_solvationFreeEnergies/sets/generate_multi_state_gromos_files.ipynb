{
 "cells": [
  {
   "cell_type": "markdown",
   "source": [
    "# Generate the systems for multistates"
   ],
   "metadata": {
    "collapsed": false,
    "pycharm": {
     "name": "#%% md\n"
    }
   }
  },
  {
   "cell_type": "code",
   "execution_count": 1,
   "outputs": [
    {
     "name": "stderr",
     "output_type": "stream",
     "text": [
      "/home/bschroed/Documents/code/restraintmaker/restraintmaker/submodules/pygromos/pygromos/files/topology/top.py:20: UserWarning: Module topo-files is under Development and not entirely implemented!\n",
      "  warnings.warn(\"Module topo-files is under Development and not entirely implemented!\")\n"
     ]
    }
   ],
   "source": [
    "#IMPORT\n",
    "import os, sys, glob\n",
    "import time\n",
    "\n",
    "from pygromos.gromos.gromosPP import GromosPP\n",
    "from pygromos.gromos.gromosXX import GromosXX\n",
    "\n",
    "from pygromos.files.coord import cnf\n",
    "from pygromos.files import imd\n",
    "\n",
    "from pygromos.data import imd_templates\n",
    "from pygromos.data import solvents\n",
    "\n",
    "import restraintmaker\n",
    "\n",
    "#CHANGE HERE\n",
    "gromosPP_bin_path = \"/home/bschroed/Documents/code/gromosPP/installed/bin\"\n",
    "gromosXX_bin_path =\"/home/bschroed/Documents/code/gromosXX/installed/bin\"\n",
    "restraintmaker_path = os.path.abspath(os.path.dirname(restraintmaker.__file__)+\"/..\")\n",
    "\n"
   ],
   "metadata": {
    "collapsed": false,
    "pycharm": {
     "name": "#%%\n"
    }
   }
  },
  {
   "cell_type": "markdown",
   "source": [
    "## Path definitions\n",
    "generate the subfolders for the systems - no changes required here."
   ],
   "metadata": {
    "collapsed": false,
    "pycharm": {
     "name": "#%% md\n"
    }
   }
  },
  {
   "cell_type": "code",
   "execution_count": 2,
   "outputs": [
    {
     "name": "stdout",
     "output_type": "stream",
     "text": [
      "\n",
      "GROMOSPATH /home/bschroed/Documents/code/gromosXX/installed/bin/\n"
     ]
    }
   ],
   "source": [
    "sets_dir = restraintmaker_path+\"/devtools/otherScripts/b_ATB_solvationFreeEnergies/sets\"\n",
    "resn_lib_path = sets_dir+\"/resn_lib.lib\"\n",
    "mstate_dir = sets_dir+\"/multistate\"\n",
    "\n",
    "\n",
    "atb_dirs = restraintmaker_path+\"/devtools/otherScripts/b_ATB_solvationFreeEnergies/ATB_molecules\"\n",
    "sys.path.append(atb_dirs+\"/..\")\n",
    "\n",
    "import utils_test_set_ATB as utils\n",
    "\n",
    "if(not os.path.exists(mstate_dir)):\n",
    "    os.mkdir(mstate_dir)\n",
    "\n",
    "##get all_single file_tops:\n",
    "all_tops = glob.glob(atb_dirs+\"/*/*top\")\n",
    "state_all_tops={os.path.basename(value).split(\".\")[0]: value for value in all_tops}\n",
    "all_mstate_sys = list(filter(os.path.isdir, glob.glob(mstate_dir+\"/*\")))\n",
    "\n",
    "emin_imd = imd_templates.template_emin\n",
    "gromXX = GromosXX(gromosXX_bin_path)\n",
    "gromPP = GromosPP(gromosPP_bin_path)\n"
   ],
   "metadata": {
    "collapsed": false,
    "pycharm": {
     "name": "#%%\n"
    }
   }
  },
  {
   "cell_type": "markdown",
   "source": [
    "## Build gromos files"
   ],
   "metadata": {
    "collapsed": false,
    "pycharm": {
     "name": "#%% md\n"
    }
   }
  },
  {
   "cell_type": "code",
   "execution_count": 3,
   "outputs": [
    {
     "name": "stdout",
     "output_type": "stream",
     "text": [
      "system name\t states\n",
      "all ['_O6T', '_O71', 'G277', 'S002', '8018', 'M030', '6KET', 'F313', '_P8I', 'M097', 'G078', 'M218', '6J29', 'G209', 'E1VB', 'TVVS', '_O70']\n",
      "['/home/bschroed/Documents/code/restraintmaker/devtools/otherScripts/b_ATB_solvationFreeEnergies/sets/multistate/align', '/home/bschroed/Documents/code/restraintmaker/devtools/otherScripts/b_ATB_solvationFreeEnergies/sets/multistate/flat_10', '/home/bschroed/Documents/code/restraintmaker/devtools/otherScripts/b_ATB_solvationFreeEnergies/sets/multistate/challenging_5', '/home/bschroed/Documents/code/restraintmaker/devtools/otherScripts/b_ATB_solvationFreeEnergies/sets/multistate/singles_10', '/home/bschroed/Documents/code/restraintmaker/devtools/otherScripts/b_ATB_solvationFreeEnergies/sets/multistate/all_17', '/home/bschroed/Documents/code/restraintmaker/devtools/otherScripts/b_ATB_solvationFreeEnergies/sets/multistate/easy_6']\n",
      "gromosPP.frameout: command:\n",
      "/home/bschroed/Documents/code/gromosPP/installed/bin/frameout @topo /home/bschroed/Documents/code/restraintmaker/devtools/otherScripts/b_ATB_solvationFreeEnergies/sets/multistate/all_17/all_17.top @traj /home/bschroed/Documents/code/restraintmaker/devtools/otherScripts/b_ATB_solvationFreeEnergies/sets/multistate/all_17/all_17.cnf @pbc v  @outformat pdb @include SOLUTE @time 0 \n",
      "STDOUT:  \n",
      "/home/bschroed/Documents/code/gromosPP/installed/bin/sim_box @topo /home/bschroed/Documents/code/restraintmaker/devtools/otherScripts/b_ATB_solvationFreeEnergies/sets/multistate/all_17/all_17.top @pos /home/bschroed/Documents/code/restraintmaker/devtools/otherScripts/b_ATB_solvationFreeEnergies/sets/multistate/all_17/all_17.cnf @solvent /home/bschroed/Documents/code/restraintmaker/restraintmaker/submodules/pygromos/pygromos/data/solvents/spc.cnf  @boxsize  > /home/bschroed/Documents/code/restraintmaker/devtools/otherScripts/b_ATB_solvationFreeEnergies/sets/multistate/all_17/all_17_spc.cnf \n",
      "\n",
      "challenging ['_O6T', '6J29', 'G078', 'G209', '8018']\n",
      "['/home/bschroed/Documents/code/restraintmaker/devtools/otherScripts/b_ATB_solvationFreeEnergies/sets/multistate/align', '/home/bschroed/Documents/code/restraintmaker/devtools/otherScripts/b_ATB_solvationFreeEnergies/sets/multistate/flat_10', '/home/bschroed/Documents/code/restraintmaker/devtools/otherScripts/b_ATB_solvationFreeEnergies/sets/multistate/challenging_5', '/home/bschroed/Documents/code/restraintmaker/devtools/otherScripts/b_ATB_solvationFreeEnergies/sets/multistate/singles_10', '/home/bschroed/Documents/code/restraintmaker/devtools/otherScripts/b_ATB_solvationFreeEnergies/sets/multistate/all_17', '/home/bschroed/Documents/code/restraintmaker/devtools/otherScripts/b_ATB_solvationFreeEnergies/sets/multistate/easy_6']\n",
      "gromosPP.frameout: command:\n",
      "/home/bschroed/Documents/code/gromosPP/installed/bin/frameout @topo /home/bschroed/Documents/code/restraintmaker/devtools/otherScripts/b_ATB_solvationFreeEnergies/sets/multistate/challenging_5/challenging_5.top @traj /home/bschroed/Documents/code/restraintmaker/devtools/otherScripts/b_ATB_solvationFreeEnergies/sets/multistate/challenging_5/challenging_5.cnf @pbc v  @outformat pdb @include SOLUTE @time 0 \n",
      "STDOUT:  \n",
      "/home/bschroed/Documents/code/gromosPP/installed/bin/sim_box @topo /home/bschroed/Documents/code/restraintmaker/devtools/otherScripts/b_ATB_solvationFreeEnergies/sets/multistate/challenging_5/challenging_5.top @pos /home/bschroed/Documents/code/restraintmaker/devtools/otherScripts/b_ATB_solvationFreeEnergies/sets/multistate/challenging_5/challenging_5.cnf @solvent /home/bschroed/Documents/code/restraintmaker/restraintmaker/submodules/pygromos/pygromos/data/solvents/spc.cnf  @boxsize  > /home/bschroed/Documents/code/restraintmaker/devtools/otherScripts/b_ATB_solvationFreeEnergies/sets/multistate/challenging_5/challenging_5_spc.cnf \n",
      "\n",
      "singles ['_O6T', '_O71', 'G277', 'S002', 'M030', '6KET', 'F313', 'M097', 'M218', 'TVVS']\n",
      "['/home/bschroed/Documents/code/restraintmaker/devtools/otherScripts/b_ATB_solvationFreeEnergies/sets/multistate/align', '/home/bschroed/Documents/code/restraintmaker/devtools/otherScripts/b_ATB_solvationFreeEnergies/sets/multistate/flat_10', '/home/bschroed/Documents/code/restraintmaker/devtools/otherScripts/b_ATB_solvationFreeEnergies/sets/multistate/challenging_5', '/home/bschroed/Documents/code/restraintmaker/devtools/otherScripts/b_ATB_solvationFreeEnergies/sets/multistate/singles_10', '/home/bschroed/Documents/code/restraintmaker/devtools/otherScripts/b_ATB_solvationFreeEnergies/sets/multistate/all_17', '/home/bschroed/Documents/code/restraintmaker/devtools/otherScripts/b_ATB_solvationFreeEnergies/sets/multistate/easy_6']\n",
      "gromosPP.frameout: command:\n",
      "/home/bschroed/Documents/code/gromosPP/installed/bin/frameout @topo /home/bschroed/Documents/code/restraintmaker/devtools/otherScripts/b_ATB_solvationFreeEnergies/sets/multistate/singles_10/singles_10.top @traj /home/bschroed/Documents/code/restraintmaker/devtools/otherScripts/b_ATB_solvationFreeEnergies/sets/multistate/singles_10/singles_10.cnf @pbc v  @outformat pdb @include SOLUTE @time 0 \n",
      "STDOUT:  \n",
      "/home/bschroed/Documents/code/gromosPP/installed/bin/sim_box @topo /home/bschroed/Documents/code/restraintmaker/devtools/otherScripts/b_ATB_solvationFreeEnergies/sets/multistate/singles_10/singles_10.top @pos /home/bschroed/Documents/code/restraintmaker/devtools/otherScripts/b_ATB_solvationFreeEnergies/sets/multistate/singles_10/singles_10.cnf @solvent /home/bschroed/Documents/code/restraintmaker/restraintmaker/submodules/pygromos/pygromos/data/solvents/spc.cnf  @boxsize  > /home/bschroed/Documents/code/restraintmaker/devtools/otherScripts/b_ATB_solvationFreeEnergies/sets/multistate/singles_10/singles_10_spc.cnf \n",
      "\n",
      "flat ['_O6T', '_O71', 'S002', 'M030', '6KET', 'F313', 'M097', 'G078', 'M218', 'TVVS']\n",
      "['/home/bschroed/Documents/code/restraintmaker/devtools/otherScripts/b_ATB_solvationFreeEnergies/sets/multistate/align', '/home/bschroed/Documents/code/restraintmaker/devtools/otherScripts/b_ATB_solvationFreeEnergies/sets/multistate/flat_10', '/home/bschroed/Documents/code/restraintmaker/devtools/otherScripts/b_ATB_solvationFreeEnergies/sets/multistate/challenging_5', '/home/bschroed/Documents/code/restraintmaker/devtools/otherScripts/b_ATB_solvationFreeEnergies/sets/multistate/singles_10', '/home/bschroed/Documents/code/restraintmaker/devtools/otherScripts/b_ATB_solvationFreeEnergies/sets/multistate/all_17', '/home/bschroed/Documents/code/restraintmaker/devtools/otherScripts/b_ATB_solvationFreeEnergies/sets/multistate/easy_6']\n",
      "gromosPP.frameout: command:\n",
      "/home/bschroed/Documents/code/gromosPP/installed/bin/frameout @topo /home/bschroed/Documents/code/restraintmaker/devtools/otherScripts/b_ATB_solvationFreeEnergies/sets/multistate/flat_10/flat_10.top @traj /home/bschroed/Documents/code/restraintmaker/devtools/otherScripts/b_ATB_solvationFreeEnergies/sets/multistate/flat_10/flat_10.cnf @pbc v  @outformat pdb @include SOLUTE @time 0 \n",
      "STDOUT:  \n",
      "/home/bschroed/Documents/code/gromosPP/installed/bin/sim_box @topo /home/bschroed/Documents/code/restraintmaker/devtools/otherScripts/b_ATB_solvationFreeEnergies/sets/multistate/flat_10/flat_10.top @pos /home/bschroed/Documents/code/restraintmaker/devtools/otherScripts/b_ATB_solvationFreeEnergies/sets/multistate/flat_10/flat_10.cnf @solvent /home/bschroed/Documents/code/restraintmaker/restraintmaker/submodules/pygromos/pygromos/data/solvents/spc.cnf  @boxsize  > /home/bschroed/Documents/code/restraintmaker/devtools/otherScripts/b_ATB_solvationFreeEnergies/sets/multistate/flat_10/flat_10_spc.cnf \n",
      "\n",
      "easy ['_O6T', 'G277', 'M030', 'M097', '6KET', 'F313']\n",
      "['/home/bschroed/Documents/code/restraintmaker/devtools/otherScripts/b_ATB_solvationFreeEnergies/sets/multistate/align', '/home/bschroed/Documents/code/restraintmaker/devtools/otherScripts/b_ATB_solvationFreeEnergies/sets/multistate/flat_10', '/home/bschroed/Documents/code/restraintmaker/devtools/otherScripts/b_ATB_solvationFreeEnergies/sets/multistate/challenging_5', '/home/bschroed/Documents/code/restraintmaker/devtools/otherScripts/b_ATB_solvationFreeEnergies/sets/multistate/singles_10', '/home/bschroed/Documents/code/restraintmaker/devtools/otherScripts/b_ATB_solvationFreeEnergies/sets/multistate/all_17', '/home/bschroed/Documents/code/restraintmaker/devtools/otherScripts/b_ATB_solvationFreeEnergies/sets/multistate/easy_6']\n",
      "gromosPP.frameout: command:\n",
      "/home/bschroed/Documents/code/gromosPP/installed/bin/frameout @topo /home/bschroed/Documents/code/restraintmaker/devtools/otherScripts/b_ATB_solvationFreeEnergies/sets/multistate/easy_6/easy_6.top @traj /home/bschroed/Documents/code/restraintmaker/devtools/otherScripts/b_ATB_solvationFreeEnergies/sets/multistate/easy_6/easy_6.cnf @pbc v  @outformat pdb @include SOLUTE @time 0 \n",
      "STDOUT:  \n",
      "/home/bschroed/Documents/code/gromosPP/installed/bin/sim_box @topo /home/bschroed/Documents/code/restraintmaker/devtools/otherScripts/b_ATB_solvationFreeEnergies/sets/multistate/easy_6/easy_6.top @pos /home/bschroed/Documents/code/restraintmaker/devtools/otherScripts/b_ATB_solvationFreeEnergies/sets/multistate/easy_6/easy_6.cnf @solvent /home/bschroed/Documents/code/restraintmaker/restraintmaker/submodules/pygromos/pygromos/data/solvents/spc.cnf  @boxsize  > /home/bschroed/Documents/code/restraintmaker/devtools/otherScripts/b_ATB_solvationFreeEnergies/sets/multistate/easy_6/easy_6_spc.cnf \n",
      "\n"
     ]
    }
   ],
   "source": [
    "#Systems\n",
    "##multi_state different_sets\n",
    "print(\"system name\\t states\")\n",
    "for name,state_set in utils.multistate_ligand_sets.items():\n",
    "    print(name, state_set)\n",
    "    system_tops = [state_all_tops[x] for x in state_set]\n",
    "\n",
    "    #build eds system\n",
    "    print(all_mstate_sys)\n",
    "    out_dir = list(filter(lambda x: name+\"_\" in x, all_mstate_sys))[0]\n",
    "    out_prefix_path = out_dir+\"/\"+os.path.basename(out_dir)\n",
    "    out_top_path, out_ptp_path = gromPP.prep_eds(in_top_paths=system_tops, number_of_eds_states=len(system_tops), out_file_path=out_prefix_path)\n",
    "\n",
    "    #generate cnf\n",
    "    in_pdb = out_prefix_path+\".pdb\"\n",
    "    out_cnf_path = gromPP.pdb2gromos(in_pdb_path=in_pdb, in_top_path=out_top_path, in_lib_path=resn_lib_path,\n",
    "                                     out_cnf_path=out_prefix_path+\".cnf\", )\n",
    "    ##build box\n",
    "    from pygromos.files.blocks.coord_blocks import GENBOX, Pbc\n",
    "    box_cnf = cnf.Cnf(out_cnf_path)\n",
    "    box_cnf.supress_atomPosition_singulrarities()\n",
    "    box_cnf.GENBOX = GENBOX(pbc=Pbc.rectangular,\n",
    "                            length=[3.610220118 for x in range(3)],\n",
    "                            angles=[90 for x in range(3)],\n",
    "                            euler=[0 for x in range(3)],\n",
    "                            origin=[0 for x in range(3)])\n",
    "    box_cnf.write(out_cnf_path)\n",
    "\n",
    "    time.sleep(3)\n",
    "    gromPP.frameout(in_top_path=out_top_path, in_coord_path=out_cnf_path, periodic_boundary_condition=\"v\",\n",
    "                    out_file_path=out_prefix_path+\"_box.pdb\", out_file_format=\"pdb\", time=0, verbose=True)\n",
    "\n",
    "\n",
    "    # SOLVATE\n",
    "    out_solv_cnf_path=out_prefix_path+\"_spc.cnf\"\n",
    "\n",
    "    gromPP.sim_box(in_top_path=out_top_path, minwall=None, in_cnf_path=out_cnf_path, in_solvent_cnf_file_path=solvents.spc,\n",
    "                   out_cnf_path=out_solv_cnf_path, periodic_boundary_condition=None, gathering_method=None,  boxsize=True)\n",
    "    time.sleep(2)\n",
    "\n",
    "    gromPP.frameout(in_top_path=out_top_path, in_coord_path=out_solv_cnf_path, periodic_boundary_condition=\"r cog\",\n",
    "                    out_file_path=out_prefix_path+\"_solv.pdb\", include=\"all\", out_file_format=\"pdb\", time=0)\n",
    "\n",
    "\n",
    "\n"
   ],
   "metadata": {
    "collapsed": false,
    "pycharm": {
     "name": "#%%\n"
    }
   }
  },
  {
   "cell_type": "code",
   "execution_count": null,
   "outputs": [],
   "source": [],
   "metadata": {
    "collapsed": false,
    "pycharm": {
     "name": "#%%\n"
    }
   }
  },
  {
   "cell_type": "code",
   "execution_count": null,
   "outputs": [],
   "source": [],
   "metadata": {
    "collapsed": false,
    "pycharm": {
     "name": "#%%\n"
    }
   }
  }
 ],
 "metadata": {
  "kernelspec": {
   "display_name": "Python 3",
   "language": "python",
   "name": "python3"
  },
  "language_info": {
   "codemirror_mode": {
    "name": "ipython",
    "version": 2
   },
   "file_extension": ".py",
   "mimetype": "text/x-python",
   "name": "python",
   "nbconvert_exporter": "python",
   "pygments_lexer": "ipython2",
   "version": "2.7.6"
  }
 },
 "nbformat": 4,
 "nbformat_minor": 0
}